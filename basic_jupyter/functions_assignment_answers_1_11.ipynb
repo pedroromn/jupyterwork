{
 "cells": [
  {
   "cell_type": "markdown",
   "metadata": {},
   "source": [
    "# Functions, types, loops assignment"
   ]
  },
  {
   "cell_type": "markdown",
   "metadata": {},
   "source": [
    "## Exercise 1"
   ]
  },
  {
   "cell_type": "markdown",
   "metadata": {},
   "source": [
    "Add a line of code that will generate the give output::\n",
    " \n",
    "     In [ ]: a_list = [2,7,8, 19]\n",
    "             YOUR CODE HERE\n",
    "     Out [ ]: 2\n",
    "     \n",
    "NOTE: The idea of this kind of exercise is to write a line of code\n",
    "that will produce the given output, 2 in this case.  Your\n",
    "answer goes in the next cell, which is a code cell.  It should this be an\n",
    "expression that operates on `a_list`.  A simple correct answer is:\n",
    "\n",
    "     In [ ]: a_list = [2,7,8, 19]\n",
    "             a_list[0]\n",
    "     Out [ ]: 2\n",
    "     \n",
    "Don't forget to evaluate the cell after you've written in your answer to generate Python's output and check your answer!\n"
   ]
  },
  {
   "cell_type": "code",
   "execution_count": 1,
   "metadata": {},
   "outputs": [
    {
     "data": {
      "text/plain": [
       "2"
      ]
     },
     "execution_count": 1,
     "metadata": {},
     "output_type": "execute_result"
    }
   ],
   "source": [
    "a_list = [2,7,8, 19]\n",
    "a_list[0]"
   ]
  },
  {
   "cell_type": "markdown",
   "metadata": {},
   "source": [
    "## Exercise 2"
   ]
  },
  {
   "cell_type": "markdown",
   "metadata": {},
   "source": [
    "  Write a line of code that produces the given output::\n",
    "   \n",
    "    In [ ]: a_list = [2,7,8, 19]\n",
    "             YOUR CODE HERE\n",
    "    Out [ ]: 19"
   ]
  },
  {
   "cell_type": "code",
   "execution_count": 16,
   "metadata": {},
   "outputs": [
    {
     "data": {
      "text/plain": [
       "19"
      ]
     },
     "execution_count": 16,
     "metadata": {},
     "output_type": "execute_result"
    }
   ],
   "source": [
    "a_list = [2,7,8, 19]\n",
    "a_list[-1]"
   ]
  },
  {
   "cell_type": "markdown",
   "metadata": {},
   "source": [
    "## Exercise 3"
   ]
  },
  {
   "cell_type": "markdown",
   "metadata": {},
   "source": [
    " Write a line of code that produces the given output: \n",
    "   \n",
    "     In [ ]: a_list = [2,7,8, 19]\n",
    "           YOUR CODE HERE\n",
    "     Out [ ]: [7,8]\n"
   ]
  },
  {
   "cell_type": "code",
   "execution_count": 17,
   "metadata": {},
   "outputs": [
    {
     "data": {
      "text/plain": [
       "[7, 8]"
      ]
     },
     "execution_count": 17,
     "metadata": {},
     "output_type": "execute_result"
    }
   ],
   "source": [
    "a_list = [2,7,8, 19]\n",
    "a_list[1:3]"
   ]
  },
  {
   "cell_type": "markdown",
   "metadata": {},
   "source": [
    "## Exercise 4"
   ]
  },
  {
   "cell_type": "markdown",
   "metadata": {},
   "source": [
    " Write a line of code that produces the given output: \n",
    "   \n",
    "     In [ ]: a_list = [2,7,8, 19]\n",
    "           YOUR CODE HERE\n",
    "     Out [ ]: [3,8,9,20]\n",
    "    \n",
    "Hint: Try a list comprehension."
   ]
  },
  {
   "cell_type": "code",
   "execution_count": 25,
   "metadata": {},
   "outputs": [
    {
     "data": {
      "text/plain": [
       "[3, 8, 9, 20]"
      ]
     },
     "execution_count": 25,
     "metadata": {},
     "output_type": "execute_result"
    }
   ],
   "source": [
    "a_list = [2,7,8, 19]\n",
    "[x+1 for x in a_list]"
   ]
  },
  {
   "cell_type": "markdown",
   "metadata": {},
   "source": [
    "## Exercise 4A"
   ]
  },
  {
   "cell_type": "markdown",
   "metadata": {},
   "source": [
    "Write a line of code that will return True when applied to X (note there are many answers):\n",
    "\n",
    "    In [ ]: X = 7\n",
    "            YOUR CODE GOES HERE\n",
    "    Out [ ]: True\n",
    "            "
   ]
  },
  {
   "cell_type": "code",
   "execution_count": 3,
   "metadata": {},
   "outputs": [
    {
     "name": "stdout",
     "output_type": "stream",
     "text": [
      "True\n"
     ]
    }
   ],
   "source": [
    "X = 7  # Define X\n",
    "print(X == 7) # Apply a test that returns True"
   ]
  },
  {
   "cell_type": "markdown",
   "metadata": {},
   "source": [
    "## Exercise 4B"
   ]
  },
  {
   "cell_type": "markdown",
   "metadata": {},
   "source": [
    "Write an `if` clause (4 lines of code) that will print \"Branch 1\" for the first value of X; then test it again on the second value of X and have it print \"branch2\" for the second value of X::\n",
    "    \n",
    "    In [ ]:  X = 7\n",
    "             YOUR IF-CLAUSE GOES HERE\n",
    "             X = 8\n",
    "             PUT THE SAME IF_CLAUSE HERE TOO\n",
    "    Out [ ]: Branch 1\n",
    "             Branch 2"
   ]
  },
  {
   "cell_type": "code",
   "execution_count": 30,
   "metadata": {},
   "outputs": [
    {
     "name": "stdout",
     "output_type": "stream",
     "text": [
      "Branch 1\n",
      "Branch 2\n"
     ]
    }
   ],
   "source": [
    "X = 7\n",
    "if X==7:\n",
    "   print('Branch 1')\n",
    "else:\n",
    "   print('Branch 2')\n",
    "\n",
    "X = 8\n",
    "if X==7:\n",
    "   print('Branch 1')\n",
    "else:\n",
    "   print('Branch 2')"
   ]
  },
  {
   "cell_type": "markdown",
   "metadata": {},
   "source": [
    "## Exercise 5"
   ]
  },
  {
   "cell_type": "markdown",
   "metadata": {},
   "source": [
    " Write a line of code that produces the given output: \n",
    "   \n",
    "     In [ ]: a_list = [2,7,8, 19]\n",
    "           YOUR CODE HERE\n",
    "     Out [ ]: [True, True, False, False]\n",
    "  \n",
    " [Hint:  Try a list comprehension that collects\n",
    "  a list of the results of a Boolean test]\n"
   ]
  },
  {
   "cell_type": "code",
   "execution_count": 4,
   "metadata": {},
   "outputs": [
    {
     "data": {
      "text/plain": [
       "[True, True, False, False]"
      ]
     },
     "execution_count": 4,
     "metadata": {},
     "output_type": "execute_result"
    }
   ],
   "source": [
    "a_list = [2,7,8, 19]\n",
    "[x <= 7  for x in a_list]"
   ]
  },
  {
   "cell_type": "markdown",
   "metadata": {},
   "source": [
    "## Exercise 6"
   ]
  },
  {
   "cell_type": "markdown",
   "metadata": {},
   "source": [
    "Write a `for` loop that collects all the words\n",
    "in the list `test_list` that are three letters long and places them\n",
    "in a list named `result`.\n",
    "\n",
    "For example, if `test_list` is the list below, the value of `result` should be the list given in the `Out` cell.  Hint:  Use `append` and `len` and an `if`-clause::\n",
    "\n",
    "    In [ ]: test_list = ['the', 'be', 'of', 'and', 'a', 'in', 'to', 'have', 'it', \n",
    "                         'to', 'for', 'I', 'that', 'you', 'he', 'on', 'with', 'do', \n",
    "                         'at', 'by', 'not', 'this', 'but', 'from', 'they', 'his']\n",
    "            result = []\n",
    "            YOUR CODE GOES HERE\n",
    "            result\n",
    "     Out [ ]: ['the', 'and', 'for', 'you', 'not', 'but', 'his']\n",
    "                         \n",
    "\n",
    "\n",
    "Note:  This can also be done as a list comprehension, and you are welcome to do it that way."
   ]
  },
  {
   "cell_type": "code",
   "execution_count": 6,
   "metadata": {},
   "outputs": [
    {
     "data": {
      "text/plain": [
       "['the', 'and', 'for', 'you', 'not', 'but', 'his']"
      ]
     },
     "execution_count": 6,
     "metadata": {},
     "output_type": "execute_result"
    }
   ],
   "source": [
    "test_list = ['the', 'be', 'of', 'and', 'a', 'in', 'to', 'have', 'it', \n",
    "                     'to', 'for', 'I', 'that', 'you', 'he', 'on', 'with', 'do', \n",
    "                     'at', 'by', 'not', 'this', 'but', 'from', 'they', 'his']\n",
    "result = []\n",
    "for x in test_list:\n",
    "    if len(x) == 3:\n",
    "        result.append(x)\n",
    "result"
   ]
  },
  {
   "cell_type": "code",
   "execution_count": 8,
   "metadata": {},
   "outputs": [
    {
     "data": {
      "text/plain": [
       "['the', 'and', 'for', 'you', 'not', 'but', 'his']"
      ]
     },
     "execution_count": 8,
     "metadata": {},
     "output_type": "execute_result"
    }
   ],
   "source": [
    "# List comprehension version\n",
    "result = [x for x in test_list if len(x) == 3]\n",
    "result"
   ]
  },
  {
   "cell_type": "markdown",
   "metadata": {},
   "source": [
    "## Exercise 7"
   ]
  },
  {
   "cell_type": "markdown",
   "metadata": {},
   "source": [
    "Now, using the same `test_list`\n",
    "as in exercise 6, write a `for` loop that **counts**\n",
    "the number of words that are three letters long in `test_list`\n",
    "and  places the result in a variable named `three_let_word_freq`.\n",
    "You can do this by just taking the length\n",
    "of the list you computed in exercise 7, but try to do\n",
    "it without building that list.  Just start with `three_let_word_freq`\n",
    "set to 0 and increment its value by one each time you see a three-letter\n",
    "word.  The value of the variable after the loop is exited should be 7.\n"
   ]
  },
  {
   "cell_type": "code",
   "execution_count": 9,
   "metadata": {},
   "outputs": [
    {
     "data": {
      "text/plain": [
       "7"
      ]
     },
     "execution_count": 9,
     "metadata": {},
     "output_type": "execute_result"
    }
   ],
   "source": [
    "test_list = ['the', 'be', 'of', 'and', 'a', 'in', 'to', 'have', 'it', \n",
    "                     'to', 'for', 'I', 'that', 'you', 'he', 'on', 'with', 'do', \n",
    "                     'at', 'by', 'not', 'this', 'but', 'from', 'they', 'his']\n",
    "three_let_word_freq = 0\n",
    "for word in test_list:\n",
    "    if len(word) == 3:\n",
    "      three_let_word_freq += 1\n",
    "three_let_word_freq"
   ]
  },
  {
   "cell_type": "markdown",
   "metadata": {},
   "source": [
    "## Exercise 8"
   ]
  },
  {
   "cell_type": "markdown",
   "metadata": {},
   "source": [
    "Write a `for` loop that finds the item which occurs\n",
    "most frequently in a list of items. You can use the following list\n",
    "as an example::\n",
    "\n",
    "   L = ['1', '4', '1', '5', '9', '2', '6', '5', '3', '5', \n",
    "        '8', '9', '7', '9', '3', '1', '1', '6']\n",
    "\n",
    "You will need a dictionary\n",
    "and it will be most convenient to use a Counter. It will be helpful\n",
    "to review our discussion of Counters in the book draft section on dictionaries.\n",
    "It will also be helpful to read the [Python docs](http://docs.python.org/2/library/collections.html)  to find a convenient method that finds the element in a counter with the highest count.\n"
   ]
  },
  {
   "cell_type": "code",
   "execution_count": 10,
   "metadata": {},
   "outputs": [
    {
     "data": {
      "text/plain": [
       "('1', 4)"
      ]
     },
     "execution_count": 10,
     "metadata": {},
     "output_type": "execute_result"
    }
   ],
   "source": [
    "from collections import Counter\n",
    "L = ['1', '4', '1', '5', '9', '2', '6', '5', '3', '5', \n",
    "        '8', '9', '7', '9', '3', '1', '1', '6']\n",
    "counts = Counter()\n",
    "\n",
    "# Two loop answer\n",
    "# First loop get all the correct counts\n",
    "for x in L:\n",
    "    counts[x] += 1\n",
    "\n",
    "#Second loop: loop through count dictionary to \n",
    "# find highest count and the key that has that count.\n",
    "best_count = 0\n",
    "best_item = None\n",
    "for x in L:\n",
    "    if counts[x] > best_count:\n",
    "        best_count, best_item = (counts[x],x)\n",
    "best_item, best_count"
   ]
  },
  {
   "cell_type": "code",
   "execution_count": 25,
   "metadata": {},
   "outputs": [
    {
     "data": {
      "text/plain": [
       "4"
      ]
     },
     "execution_count": 25,
     "metadata": {},
     "output_type": "execute_result"
    }
   ],
   "source": [
    "best_count"
   ]
  },
  {
   "cell_type": "markdown",
   "metadata": {},
   "source": [
    "## Exercise 9"
   ]
  },
  {
   "cell_type": "markdown",
   "metadata": {},
   "source": [
    "Write a function that adds 1 to any number.  Here is how it should  work::\n",
    "\n",
    "    In [ ]: x = add1(2)\n",
    "           x\n",
    "    Out [ ]: 3\n",
    "\n",
    "Hint:  If you're having trouble getting this behavior, maybe you forgot\n",
    "about `return`?"
   ]
  },
  {
   "cell_type": "code",
   "execution_count": 11,
   "metadata": {},
   "outputs": [
    {
     "data": {
      "text/plain": [
       "3"
      ]
     },
     "execution_count": 11,
     "metadata": {},
     "output_type": "execute_result"
    }
   ],
   "source": [
    "def add1 (x):\n",
    "    return x + 1\n",
    "add1(2)"
   ]
  },
  {
   "cell_type": "code",
   "execution_count": null,
   "metadata": {
    "collapsed": true
   },
   "outputs": [],
   "source": []
  },
  {
   "cell_type": "code",
   "execution_count": 11,
   "metadata": {},
   "outputs": [
    {
     "data": {
      "text/plain": [
       "3"
      ]
     },
     "execution_count": 11,
     "metadata": {},
     "output_type": "execute_result"
    }
   ],
   "source": [
    "add1(3)\n",
    "x"
   ]
  },
  {
   "cell_type": "markdown",
   "metadata": {},
   "source": [
    "## Exercise 10"
   ]
  },
  {
   "cell_type": "markdown",
   "metadata": {},
   "source": [
    "Write a function that converts temperatures (as\n",
    "numbers) from Fahrenheit to Celsius scale.  Here is\n",
    "how it should work::\n",
    "\n",
    "    In [ ]:  fahrenheit_to_celsius(212)\n",
    "    Out [ ]: 100\n",
    "    In [ ]: fahrenheit_to_celsius(-40)\n",
    "    Out [ ]: -40.0\n",
    "    In [ ]:  fahrenheit_to_celsius(32)\n",
    "    Out [ ]: 0\n",
    "   \n",
    " If you want to create new cells to demonstrate all the examples, you can create\n",
    " a new cell by holding down the `[Control]` key while pressing `M` and then typing `b`.\n"
   ]
  },
  {
   "cell_type": "code",
   "execution_count": 12,
   "metadata": {},
   "outputs": [],
   "source": [
    "def fahrenheit_to_celsius(f):\n",
    "    return (f-32)*5/9"
   ]
  },
  {
   "cell_type": "code",
   "execution_count": 13,
   "metadata": {},
   "outputs": [
    {
     "data": {
      "text/plain": [
       "100.0"
      ]
     },
     "execution_count": 13,
     "metadata": {},
     "output_type": "execute_result"
    }
   ],
   "source": [
    "fahrenheit_to_celsius(212)"
   ]
  },
  {
   "cell_type": "markdown",
   "metadata": {},
   "source": [
    "Some examples of how a correctly written function should behave follow:"
   ]
  },
  {
   "cell_type": "code",
   "execution_count": 14,
   "metadata": {},
   "outputs": [
    {
     "data": {
      "text/plain": [
       "1.6666666666666667"
      ]
     },
     "execution_count": 14,
     "metadata": {},
     "output_type": "execute_result"
    }
   ],
   "source": [
    "fahrenheit_to_celsius(35)"
   ]
  },
  {
   "cell_type": "code",
   "execution_count": 15,
   "metadata": {},
   "outputs": [
    {
     "data": {
      "text/plain": [
       "0.5555555555555556"
      ]
     },
     "execution_count": 15,
     "metadata": {},
     "output_type": "execute_result"
    }
   ],
   "source": [
    "5/9."
   ]
  },
  {
   "cell_type": "markdown",
   "metadata": {},
   "source": [
    "## Exercise 11"
   ]
  },
  {
   "cell_type": "markdown",
   "metadata": {},
   "source": [
    "Write a function that computes the volume of a cone.\n",
    "Note that if V is the volume of a cone, and `h` is\n",
    "its height and `r` is the radius of the base, then\n",
    "\n",
    "$$ \n",
    "V = \\frac{1}{3}  \\pi r^{2} h \n",
    "$$\n",
    "\n",
    "Here is how the function should work::\n",
    "\n",
    "     In [ ]: cone_volume(2,3)\n",
    "     Out [ ]: 12.566370614359172\n"
   ]
  },
  {
   "cell_type": "code",
   "execution_count": 18,
   "metadata": {},
   "outputs": [
    {
     "data": {
      "text/plain": [
       "12.440706908215581"
      ]
     },
     "execution_count": 18,
     "metadata": {},
     "output_type": "execute_result"
    }
   ],
   "source": [
    "cone_volume(2,3)"
   ]
  },
  {
   "cell_type": "code",
   "execution_count": 20,
   "metadata": {
    "scrolled": true
   },
   "outputs": [],
   "source": [
    "from math import pi\n",
    "\n",
    "def cone_volume (r, h):\n",
    "   \"\"\"\n",
    "   Computes the volume of the cone:\n",
    "      (pi * r**2 * h)/3\n",
    "   \"\"\"\n",
    "   return pi * r**2 * h/3"
   ]
  },
  {
   "cell_type": "markdown",
   "metadata": {},
   "source": [
    "Note; The cell above introduces a **documentation string** into you function definition.  Documentation are used by automatic documentation generators that will produce nice looking documents describing how your code works.  You can llok at the documentation string of any function that has one as follows."
   ]
  },
  {
   "cell_type": "code",
   "execution_count": 19,
   "metadata": {},
   "outputs": [
    {
     "data": {
      "text/plain": [
       "12.566370614359172"
      ]
     },
     "execution_count": 19,
     "metadata": {},
     "output_type": "execute_result"
    }
   ],
   "source": [
    "cone_volume(2,3)"
   ]
  },
  {
   "cell_type": "code",
   "execution_count": 21,
   "metadata": {},
   "outputs": [
    {
     "name": "stdout",
     "output_type": "stream",
     "text": [
      "\n",
      "   Computes the volume of the cone:\n",
      "      (pi * r**2 * h)/3\n",
      "   \n"
     ]
    }
   ],
   "source": [
    "print((cone_volume.__doc__))"
   ]
  },
  {
   "cell_type": "markdown",
   "metadata": {},
   "source": [
    "## Sudoku:  More list comprehension"
   ]
  },
  {
   "cell_type": "markdown",
   "metadata": {},
   "source": [
    "For this exercise, execute the code below; we will use it, but not really discuss how it works."
   ]
  },
  {
   "cell_type": "code",
   "execution_count": 4,
   "metadata": {},
   "outputs": [],
   "source": [
    "def cross(A, B):\n",
    "    \"Cross product of elements in A and elements in B.\"\n",
    "    return [a+b for a in A for b in B]\n",
    "\n",
    "\n",
    "digits   = '123456789'\n",
    "rows     = 'ABCDEFGHI'\n",
    "cols     = digits\n",
    "squares  = cross(rows, cols)\n",
    "unitlist = ([cross(rows, c) for c in cols] +\n",
    "            [cross(r, cols) for r in rows] +\n",
    "            [cross(rs, cs) for rs in ('ABC','DEF','GHI') for cs in ('123','456','789')])\n",
    "\n",
    "# Assign to each square s A set of sets of squares\n",
    "units = dict((s, [u for u in unitlist if s in u])\n",
    "             for s in squares)\n",
    "## Assign to each square s a set of squares, namely those that cant have the same value as s.\n",
    "peers = dict((s, set(sum(units[s],[]))-set([s]))\n",
    "             for s in squares)\n",
    "\n",
    "# Turn a puzzle string into a dictionary.\n",
    "def grid_values(grid):\n",
    "    \"Convert grid into a dict of {square: char} with '0' or '.' for empties.\"\n",
    "    chars = [c for c in grid if c in digits or c in '0.']\n",
    "    assert len(chars) == 81\n",
    "    return dict(list(zip(squares, chars)))\n",
    "\n",
    "def simple_grid_values (grid):\n",
    "    \"Convert grid into a dict of {square: char} with no restriction on contents\"\n",
    "    assert len(grid) == 81\n",
    "    return dict(list(zip(squares, grid)))\n",
    "  \n",
    "################ Display as 2-D grid ################\n",
    "\n",
    "def display(values):\n",
    "    \"Display these values as a 2-D grid.\"\n",
    "    for s in squares:\n",
    "        if values[s] == '0':\n",
    "            values[s] = '.'\n",
    "    width = 1+max(len(values[s]) for s in squares)\n",
    "    line = '+'.join(['-'*(width*3)]*3)\n",
    "    for r in rows:\n",
    "        print((''.join(values[r+c].center(width)+('|' if c in '36' else '')\n",
    "                      for c in cols)))\n",
    "        if r in 'CF': print(line)\n",
    "    print()\n",
    "\n",
    "\n",
    "grid1  = '003020600900305001001806400008102900700000008006708200002609500800203009005010300'\n",
    "grid1_soln = '483921657967345821251876493548132976729564138136798245372689514814253769695417382'\n",
    "grid2  = '003020600900305001001806400008102900700000008006708200002689500800203009005010300'\n",
    "# Some illegal grids.\n",
    "grid3  = '003020600900305001001806400008102900700000008006708200002609500800203089005010300'\n",
    "grid4  = '003020609900305001001806400008102900700000008006708200002609500800203009005010300'\n",
    "grid5  = '003020600900305061001806400008102900700000008006708200002609500800203009005010300'\n",
    "g5_peers = peers['G5']\n",
    "sgv = simple_grid_values(squares)\n",
    "for s in g5_peers:\n",
    "    sgv[s] = '__'"
   ]
  },
  {
   "cell_type": "markdown",
   "metadata": {},
   "source": [
    "First some preliminaries, introducing the idea of a sudoku puzzle, for those who've never tried one.  According to Norvig:\n",
    "\n",
    ">A Sudoku puzzle is a grid of 81 squares; the majority of enthusiasts label the columns 1-9, the rows A-I [as in the grid below]."
   ]
  },
  {
   "cell_type": "code",
   "execution_count": 2,
   "metadata": {
    "scrolled": false
   },
   "outputs": [
    {
     "name": "stdout",
     "output_type": "stream",
     "text": [
      " A1 A2 A3| A4 A5 A6| A7 A8 A9\n",
      " B1 B2 B3| B4 B5 B6| B7 B8 B9\n",
      " C1 C2 C3| C4 C5 C6| C7 C8 C9\n",
      "---------+---------+---------\n",
      " D1 D2 D3| D4 D5 D6| D7 D8 D9\n",
      " E1 E2 E3| E4 E5 E6| E7 E8 E9\n",
      " F1 F2 F3| F4 F5 F6| F7 F8 F9\n",
      "---------+---------+---------\n",
      " G1 G2 G3| G4 G5 G6| G7 G8 G9\n",
      " H1 H2 H3| H4 H5 H6| H7 H8 H9\n",
      " I1 I2 I3| I4 I5 I6| I7 I8 I9\n",
      "\n"
     ]
    }
   ],
   "source": [
    "display(simple_grid_values(squares))"
   ]
  },
  {
   "cell_type": "markdown",
   "metadata": {},
   "source": [
    "Also according to Norvig\n",
    ">A collection of nine squares (column, row, or box) is called a **unit** and the squares that share a unit the **peers**. A puzzle leaves some squares blank and fills others with digits, and the whole idea is: A puzzle is solved if the squares in each unit are filled with a permutation of the digits 1 to 9.\n",
    "\n",
    "Thus in each unit of a solved puzzle, all the digits must appear, and no duplications are allowed. The next square shows a puzzle, and below that its unique solution."
   ]
  },
  {
   "cell_type": "code",
   "execution_count": 3,
   "metadata": {},
   "outputs": [
    {
     "name": "stdout",
     "output_type": "stream",
     "text": [
      ". . 3 |. 2 . |6 . . \n",
      "9 . . |3 . 5 |. . 1 \n",
      ". . 1 |8 . 6 |4 . . \n",
      "------+------+------\n",
      ". . 8 |1 . 2 |9 . . \n",
      "7 . . |. . . |. . 8 \n",
      ". . 6 |7 . 8 |2 . . \n",
      "------+------+------\n",
      ". . 2 |6 . 9 |5 . . \n",
      "8 . . |2 . 3 |. . 9 \n",
      ". . 5 |. 1 . |3 . . \n",
      "\n",
      "     ... => ...\n",
      "\n",
      "4 8 3 |9 2 1 |6 5 7 \n",
      "9 6 7 |3 4 5 |8 2 1 \n",
      "2 5 1 |8 7 6 |4 9 3 \n",
      "------+------+------\n",
      "5 4 8 |1 3 2 |9 7 6 \n",
      "7 2 9 |5 6 4 |1 3 8 \n",
      "1 3 6 |7 9 8 |2 4 5 \n",
      "------+------+------\n",
      "3 7 2 |6 8 9 |5 1 4 \n",
      "8 1 4 |2 5 3 |7 6 9 \n",
      "6 9 5 |4 1 7 |3 8 2 \n",
      "\n"
     ]
    }
   ],
   "source": [
    "display(grid_values(grid1))\n",
    "print('     ... => ...')\n",
    "print()\n",
    "display(grid_values(grid1_soln))"
   ]
  },
  {
   "cell_type": "markdown",
   "metadata": {},
   "source": [
    "According to Norvig's terminology, the *peers* of a square are the squares in the same column, or the same row, or the same box.  The peers of `G5` are show below as unfilled boxes:"
   ]
  },
  {
   "cell_type": "code",
   "execution_count": 26,
   "metadata": {},
   "outputs": [
    {
     "name": "stdout",
     "output_type": "stream",
     "text": [
      " A1 A2 A3| A4 __ A6| A7 A8 A9\n",
      " B1 B2 B3| B4 __ B6| B7 B8 B9\n",
      " C1 C2 C3| C4 __ C6| C7 C8 C9\n",
      "---------+---------+---------\n",
      " D1 D2 D3| D4 __ D6| D7 D8 D9\n",
      " E1 E2 E3| E4 __ E6| E7 E8 E9\n",
      " F1 F2 F3| F4 __ F6| F7 F8 F9\n",
      "---------+---------+---------\n",
      " __ __ __| __ G5 __| __ __ __\n",
      " H1 H2 H3| __ __ __| H7 H8 H9\n",
      " I1 I2 I3| __ __ __| I7 I8 I9\n",
      "\n"
     ]
    }
   ],
   "source": [
    "display(sgv)"
   ]
  },
  {
   "cell_type": "markdown",
   "metadata": {},
   "source": [
    "As the example shows, a square has 20 peers, 16 from its row and column, and 4 more from the 9-square box it is in."
   ]
  },
  {
   "cell_type": "markdown",
   "metadata": {},
   "source": [
    "The cell below contains a small extract of the code used in Peter Norvig's sudoku solver, which is discussed in the section of the online book devoted to list comprehensions.  After the code is executed the name `squares` contains the names of the 81 legal squares in a Sudoku game.  "
   ]
  },
  {
   "cell_type": "markdown",
   "metadata": {},
   "source": [
    "The code below will help you complete this exercise.  You should make sure you understand how it works."
   ]
  },
  {
   "cell_type": "code",
   "execution_count": 2,
   "metadata": {},
   "outputs": [],
   "source": [
    "def cross(A, B):\n",
    "    \"\"\"\n",
    "    Cross product of elements in sequence A and elements in sequence B. \n",
    "    When a and b are strings, we just concatenate them.\n",
    "    \"\"\"\n",
    "    return [a+b for a in A for b in B]\n",
    "\n",
    "\n",
    "def grid_values(grid):\n",
    "    \"Convert grid into a dict of {square: char} with '0' or '.' for empties.\"\n",
    "    chars = [c for c in grid if c in digits or c in '0.']\n",
    "    assert len(chars) == 81\n",
    "    return dict(list(zip(squares, chars)))\n",
    "\n",
    "digits   = '123456789'\n",
    "rows     = 'ABCDEFGHI'\n",
    "cols     = digits\n",
    "squares  = cross(rows, cols)\n",
    "unitlist = ([cross(rows, c) for c in cols] +\n",
    "            [cross(r, cols) for r in rows] +\n",
    "            [cross(rs, cs) for rs in ('ABC','DEF','GHI') for cs in ('123','456','789')])\n",
    "\n",
    "# Assign to each square s A set of sets of squares\n",
    "units = dict((s, [u for u in unitlist if s in u])\n",
    "             for s in squares)\n",
    "## Assign to each square s a set of squares, namely those that cant have the same value as s.\n",
    "peers = dict((s, set(sum(units[s],[]))-set([s]))\n",
    "             for s in squares)"
   ]
  },
  {
   "cell_type": "markdown",
   "metadata": {},
   "source": [
    "The name `units` contains a dictionary, which contains square names as keys.  For any square `s`, `units[s]` is the three groups of squares that cannot contain the same value as `s`.\n",
    "So `units['H8']` contains column 8, row H, and the box of 9 squares in the lower right hand box of the puzzle to which square `H8` belongs:"
   ]
  },
  {
   "cell_type": "code",
   "execution_count": 3,
   "metadata": {},
   "outputs": [
    {
     "data": {
      "text/plain": [
       "[['A8', 'B8', 'C8', 'D8', 'E8', 'F8', 'G8', 'H8', 'I8'],\n",
       " ['H1', 'H2', 'H3', 'H4', 'H5', 'H6', 'H7', 'H8', 'H9'],\n",
       " ['G7', 'G8', 'G9', 'H7', 'H8', 'H9', 'I7', 'I8', 'I9']]"
      ]
     },
     "execution_count": 3,
     "metadata": {},
     "output_type": "execute_result"
    }
   ],
   "source": [
    "units['H8']"
   ]
  },
  {
   "cell_type": "markdown",
   "metadata": {},
   "source": [
    "`peers` is a dictionary which is a little more convenient to use for this assignment. For each square `S`, `peers[S]` is the set of squares that cannot contain the same value as `S`.\n",
    "For example: "
   ]
  },
  {
   "cell_type": "code",
   "execution_count": 4,
   "metadata": {
    "scrolled": true
   },
   "outputs": [
    {
     "data": {
      "text/plain": [
       "{'A8',\n",
       " 'B8',\n",
       " 'C8',\n",
       " 'D8',\n",
       " 'E8',\n",
       " 'F8',\n",
       " 'G7',\n",
       " 'G8',\n",
       " 'G9',\n",
       " 'H1',\n",
       " 'H2',\n",
       " 'H3',\n",
       " 'H4',\n",
       " 'H5',\n",
       " 'H6',\n",
       " 'H7',\n",
       " 'H9',\n",
       " 'I7',\n",
       " 'I8',\n",
       " 'I9'}"
      ]
     },
     "execution_count": 4,
     "metadata": {},
     "output_type": "execute_result"
    }
   ],
   "source": [
    "peers['H8']"
   ]
  },
  {
   "cell_type": "markdown",
   "metadata": {},
   "source": [
    "`peers[H8]` is computed just by unioning together the three sets of squares in `units[H8]` and removing `H8`.  We use sets to remove duplicates.  "
   ]
  },
  {
   "cell_type": "markdown",
   "metadata": {},
   "source": [
    "In the first code cell in this section, we defined a sudoku puzzle grid we called `grid1`.  `grid1` is a legal grid, as we can see by displaying  it."
   ]
  },
  {
   "cell_type": "code",
   "execution_count": 6,
   "metadata": {
    "scrolled": true
   },
   "outputs": [
    {
     "data": {
      "text/plain": [
       "{'A1': '0',\n",
       " 'A2': '0',\n",
       " 'A3': '3',\n",
       " 'A4': '0',\n",
       " 'A5': '2',\n",
       " 'A6': '0',\n",
       " 'A7': '6',\n",
       " 'A8': '0',\n",
       " 'A9': '0',\n",
       " 'B1': '9',\n",
       " 'B2': '0',\n",
       " 'B3': '0',\n",
       " 'B4': '3',\n",
       " 'B5': '0',\n",
       " 'B6': '5',\n",
       " 'B7': '0',\n",
       " 'B8': '0',\n",
       " 'B9': '1',\n",
       " 'C1': '0',\n",
       " 'C2': '0',\n",
       " 'C3': '1',\n",
       " 'C4': '8',\n",
       " 'C5': '0',\n",
       " 'C6': '6',\n",
       " 'C7': '4',\n",
       " 'C8': '0',\n",
       " 'C9': '0',\n",
       " 'D1': '0',\n",
       " 'D2': '0',\n",
       " 'D3': '8',\n",
       " 'D4': '1',\n",
       " 'D5': '0',\n",
       " 'D6': '2',\n",
       " 'D7': '9',\n",
       " 'D8': '0',\n",
       " 'D9': '0',\n",
       " 'E1': '7',\n",
       " 'E2': '0',\n",
       " 'E3': '0',\n",
       " 'E4': '0',\n",
       " 'E5': '0',\n",
       " 'E6': '0',\n",
       " 'E7': '0',\n",
       " 'E8': '0',\n",
       " 'E9': '8',\n",
       " 'F1': '0',\n",
       " 'F2': '0',\n",
       " 'F3': '6',\n",
       " 'F4': '7',\n",
       " 'F5': '0',\n",
       " 'F6': '8',\n",
       " 'F7': '2',\n",
       " 'F8': '0',\n",
       " 'F9': '0',\n",
       " 'G1': '0',\n",
       " 'G2': '0',\n",
       " 'G3': '2',\n",
       " 'G4': '6',\n",
       " 'G5': '0',\n",
       " 'G6': '9',\n",
       " 'G7': '5',\n",
       " 'G8': '0',\n",
       " 'G9': '0',\n",
       " 'H1': '8',\n",
       " 'H2': '0',\n",
       " 'H3': '0',\n",
       " 'H4': '2',\n",
       " 'H5': '0',\n",
       " 'H6': '3',\n",
       " 'H7': '0',\n",
       " 'H8': '0',\n",
       " 'H9': '9',\n",
       " 'I1': '0',\n",
       " 'I2': '0',\n",
       " 'I3': '5',\n",
       " 'I4': '0',\n",
       " 'I5': '1',\n",
       " 'I6': '0',\n",
       " 'I7': '3',\n",
       " 'I8': '0',\n",
       " 'I9': '0'}"
      ]
     },
     "execution_count": 6,
     "metadata": {},
     "output_type": "execute_result"
    }
   ],
   "source": [
    "grid_values(grid1)"
   ]
  },
  {
   "cell_type": "code",
   "execution_count": 7,
   "metadata": {
    "scrolled": true
   },
   "outputs": [
    {
     "name": "stdout",
     "output_type": "stream",
     "text": [
      ". . 3 |. 2 . |6 . . \n",
      "9 . . |3 . 5 |. . 1 \n",
      ". . 1 |8 . 6 |4 . . \n",
      "------+------+------\n",
      ". . 8 |1 . 2 |9 . . \n",
      "7 . . |. . . |. . 8 \n",
      ". . 6 |7 . 8 |2 . . \n",
      "------+------+------\n",
      ". . 2 |6 . 9 |5 . . \n",
      "8 . . |2 . 3 |. . 9 \n",
      ". . 5 |. 1 . |3 . . \n",
      "\n"
     ]
    }
   ],
   "source": [
    "display(grid_values(grid1))"
   ]
  },
  {
   "cell_type": "markdown",
   "metadata": {},
   "source": [
    "It will be useful to keep in mind something the `display` functions does.  `grid1` is s string.  `grid_values` converts that string into a dictionary, and `display` only works on the dictionary representation.  In solving this problem, you will find it convenient to work with the dictionary representation of a puzzle, just as the `display` function does."
   ]
  },
  {
   "cell_type": "code",
   "execution_count": 8,
   "metadata": {},
   "outputs": [
    {
     "name": "stdout",
     "output_type": "stream",
     "text": [
      "003020600900305001001806400008102900700000008006708200002609500800203009005010300\n",
      "{'I6': '0', 'H9': '9', 'I2': '0', 'E8': '0', 'H3': '0', 'H7': '0', 'I7': '3', 'I4': '0', 'H5': '0', 'F9': '0', 'G7': '5', 'G6': '9', 'G5': '0', 'E1': '7', 'G3': '2', 'G2': '0', 'G1': '0', 'I1': '0', 'C8': '0', 'I3': '5', 'E5': '0', 'I5': '1', 'C9': '0', 'G9': '0', 'G8': '0', 'A1': '0', 'A3': '3', 'A2': '0', 'A5': '2', 'A4': '0', 'A7': '6', 'A6': '0', 'C3': '1', 'C2': '0', 'C1': '0', 'E6': '0', 'C7': '4', 'C6': '6', 'C5': '0', 'C4': '8', 'I9': '0', 'D8': '0', 'I8': '0', 'E4': '0', 'D9': '0', 'H8': '0', 'F6': '8', 'A9': '0', 'G4': '6', 'A8': '0', 'E7': '0', 'E3': '0', 'F1': '0', 'F2': '0', 'F3': '6', 'F4': '7', 'F5': '0', 'E2': '0', 'F7': '2', 'F8': '0', 'D2': '0', 'H1': '8', 'H6': '3', 'H2': '0', 'H4': '2', 'D3': '8', 'B4': '3', 'B5': '0', 'B6': '5', 'B7': '0', 'E9': '8', 'B1': '9', 'B2': '0', 'B3': '0', 'D6': '2', 'D7': '9', 'D4': '1', 'D5': '0', 'B8': '0', 'B9': '1', 'D1': '0'}\n"
     ]
    }
   ],
   "source": [
    "print(grid1)\n",
    "print((grid_values(grid1)))"
   ]
  },
  {
   "cell_type": "markdown",
   "metadata": {},
   "source": [
    "`grid2` Is the same as `grid1` but we have added an `8` to row `G`. `grid2` is also a legal grid."
   ]
  },
  {
   "cell_type": "code",
   "execution_count": 9,
   "metadata": {},
   "outputs": [
    {
     "name": "stdout",
     "output_type": "stream",
     "text": [
      ". . 3 |. 2 . |6 . . \n",
      "9 . . |3 . 5 |. . 1 \n",
      ". . 1 |8 . 6 |4 . . \n",
      "------+------+------\n",
      ". . 8 |1 . 2 |9 . . \n",
      "7 . . |. . . |. . 8 \n",
      ". . 6 |7 . 8 |2 . . \n",
      "------+------+------\n",
      ". . 2 |6 8 9 |5 . . \n",
      "8 . . |2 . 3 |. . 9 \n",
      ". . 5 |. 1 . |3 . . \n",
      "\n"
     ]
    }
   ],
   "source": [
    "display(grid_values(grid2))"
   ]
  },
  {
   "cell_type": "markdown",
   "metadata": {},
   "source": [
    "However `grid3` is illegal.  There are 2 8's in row `H`."
   ]
  },
  {
   "cell_type": "code",
   "execution_count": 10,
   "metadata": {
    "scrolled": false
   },
   "outputs": [
    {
     "name": "stdout",
     "output_type": "stream",
     "text": [
      ". . 3 |. 2 . |6 . . \n",
      "9 . . |3 . 5 |. . 1 \n",
      ". . 1 |8 . 6 |4 . . \n",
      "------+------+------\n",
      ". . 8 |1 . 2 |9 . . \n",
      "7 . . |. . . |. . 8 \n",
      ". . 6 |7 . 8 |2 . . \n",
      "------+------+------\n",
      ". . 2 |6 . 9 |5 . . \n",
      "8 . . |2 . 3 |. 8 9 \n",
      ". . 5 |. 1 . |3 . . \n",
      "\n"
     ]
    }
   ],
   "source": [
    "display(grid_values(grid3))"
   ]
  },
  {
   "cell_type": "markdown",
   "metadata": {},
   "source": [
    "`grid4` is also illegal.  There are 2 9's in the last column."
   ]
  },
  {
   "cell_type": "code",
   "execution_count": 11,
   "metadata": {
    "scrolled": true
   },
   "outputs": [
    {
     "name": "stdout",
     "output_type": "stream",
     "text": [
      ". . 3 |. 2 . |6 . 9 \n",
      "9 . . |3 . 5 |. . 1 \n",
      ". . 1 |8 . 6 |4 . . \n",
      "------+------+------\n",
      ". . 8 |1 . 2 |9 . . \n",
      "7 . . |. . . |. . 8 \n",
      ". . 6 |7 . 8 |2 . . \n",
      "------+------+------\n",
      ". . 2 |6 . 9 |5 . . \n",
      "8 . . |2 . 3 |. . 9 \n",
      ". . 5 |. 1 . |3 . . \n",
      "\n"
     ]
    }
   ],
   "source": [
    "display(grid_values(grid4))"
   ]
  },
  {
   "cell_type": "markdown",
   "metadata": {},
   "source": [
    "`grid6` is illegal because there are two 6's in the upper right hand box."
   ]
  },
  {
   "cell_type": "code",
   "execution_count": 12,
   "metadata": {},
   "outputs": [
    {
     "name": "stdout",
     "output_type": "stream",
     "text": [
      ". . 3 |. 2 . |6 . . \n",
      "9 . . |3 . 5 |. 6 1 \n",
      ". . 1 |8 . 6 |4 . . \n",
      "------+------+------\n",
      ". . 8 |1 . 2 |9 . . \n",
      "7 . . |. . . |. . 8 \n",
      ". . 6 |7 . 8 |2 . . \n",
      "------+------+------\n",
      ". . 2 |6 . 9 |5 . . \n",
      "8 . . |2 . 3 |. . 9 \n",
      ". . 5 |. 1 . |3 . . \n",
      "\n"
     ]
    }
   ],
   "source": [
    "display(grid_values(grid5))"
   ]
  },
  {
   "cell_type": "markdown",
   "metadata": {},
   "source": [
    "Your assignment is to write a function that will print out `Invalid` if the grid that is\n",
    "passed in as an argument is illegal and will print out `Valid` if the grid is legal.  It should work as follows:\n",
    "\n",
    "```\n",
    "def test(grid):\n",
    "     Your code goes here\n",
    "\n",
    "test(grid_values(grid1))\n",
    "test(grid_values(grid2))\n",
    "test(grid_values(grid3))\n",
    "test(grid_values(grid4))\n",
    "test(grid_values(grid5))\n",
    "```\n",
    "\n",
    "When you finish your code and execute the lines above, the following should print out:\n",
    "\n",
    "```\n",
    "   Valid!\n",
    "   Valid!\n",
    "   Invalid!\n",
    "   Invalid!\n",
    "   Invalid!\n",
    "```"
   ]
  },
  {
   "cell_type": "markdown",
   "metadata": {
    "collapsed": true
   },
   "source": [
    "### Some hints"
   ]
  },
  {
   "cell_type": "code",
   "execution_count": 8,
   "metadata": {
    "scrolled": true
   },
   "outputs": [
    {
     "data": {
      "text/plain": [
       "{'A1': '0',\n",
       " 'A2': '0',\n",
       " 'A3': '3',\n",
       " 'A4': '0',\n",
       " 'A5': '2',\n",
       " 'A6': '0',\n",
       " 'A7': '6',\n",
       " 'A8': '0',\n",
       " 'A9': '0',\n",
       " 'B1': '9',\n",
       " 'B2': '0',\n",
       " 'B3': '0',\n",
       " 'B4': '3',\n",
       " 'B5': '0',\n",
       " 'B6': '5',\n",
       " 'B7': '0',\n",
       " 'B8': '0',\n",
       " 'B9': '1',\n",
       " 'C1': '0',\n",
       " 'C2': '0',\n",
       " 'C3': '1',\n",
       " 'C4': '8',\n",
       " 'C5': '0',\n",
       " 'C6': '6',\n",
       " 'C7': '4',\n",
       " 'C8': '0',\n",
       " 'C9': '0',\n",
       " 'D1': '0',\n",
       " 'D2': '0',\n",
       " 'D3': '8',\n",
       " 'D4': '1',\n",
       " 'D5': '0',\n",
       " 'D6': '2',\n",
       " 'D7': '9',\n",
       " 'D8': '0',\n",
       " 'D9': '0',\n",
       " 'E1': '7',\n",
       " 'E2': '0',\n",
       " 'E3': '0',\n",
       " 'E4': '0',\n",
       " 'E5': '0',\n",
       " 'E6': '0',\n",
       " 'E7': '0',\n",
       " 'E8': '0',\n",
       " 'E9': '8',\n",
       " 'F1': '0',\n",
       " 'F2': '0',\n",
       " 'F3': '6',\n",
       " 'F4': '7',\n",
       " 'F5': '0',\n",
       " 'F6': '8',\n",
       " 'F7': '2',\n",
       " 'F8': '0',\n",
       " 'F9': '0',\n",
       " 'G1': '0',\n",
       " 'G2': '0',\n",
       " 'G3': '2',\n",
       " 'G4': '6',\n",
       " 'G5': '0',\n",
       " 'G6': '9',\n",
       " 'G7': '5',\n",
       " 'G8': '0',\n",
       " 'G9': '0',\n",
       " 'H1': '8',\n",
       " 'H2': '0',\n",
       " 'H3': '0',\n",
       " 'H4': '2',\n",
       " 'H5': '0',\n",
       " 'H6': '3',\n",
       " 'H7': '0',\n",
       " 'H8': '0',\n",
       " 'H9': '9',\n",
       " 'I1': '0',\n",
       " 'I2': '0',\n",
       " 'I3': '5',\n",
       " 'I4': '0',\n",
       " 'I5': '1',\n",
       " 'I6': '0',\n",
       " 'I7': '3',\n",
       " 'I8': '0',\n",
       " 'I9': '0'}"
      ]
     },
     "execution_count": 8,
     "metadata": {},
     "output_type": "execute_result"
    }
   ],
   "source": [
    "grid_values(grid1)"
   ]
  },
  {
   "cell_type": "markdown",
   "metadata": {},
   "source": [
    "1.  The way to test if a grid is valid is to check each square s to see if its\n",
    "    value is that same as the value of any of its peers.  To check all the squares \n",
    "    you can use the variable `squares` (defined above) which contains the names of all\n",
    "    81 squares.\n",
    "    \n",
    "    So your code will begin\n",
    "        \n",
    "    ```\n",
    "    def test(grid):\n",
    "        for s in squares:\n",
    "            [your code checking if s contains the same value as any of its peers]\n",
    "    ```\n",
    "                  \n",
    "2.  Keep in mind that `grid` is a dictionary whose keys are names of\n",
    "    squares (strings) and whose values are the numbers filling the squares.  You will be\n",
    "    checking on the equality of **values**.  The way to  get the value of a square `s` is\n",
    "    `grid[s]`.\n",
    " \n",
    "3.  You need to ignore blank squares.  So the first thing you should do is check to see if\n",
    "    `s` is blank.  You can assume a blank square contains the **string** `\"0\"`.  Since you\n",
    "    only want to look at filled squares, your test is that their value is **not** equal to\n",
    "    `\"0\"`.  The Python test for checking that `X` is not equal to `Y` is\n",
    "    \n",
    "    ```\n",
    "    X != Y\n",
    "    ```\n",
    "    \n",
    "    This evaluates to `True` when `X` and `Y` are not equal.\n",
    "    \n",
    "    So now your code begins:\n",
    "    \n",
    "       ```\n",
    "        def test(grid):\n",
    "               for s in squares:\n",
    "                    if [your test that s is not blank]:\n",
    "                        [your code checking if s contains the same value as any of its peers]\n",
    "       ```\n",
    "4.  The way to print 'Invalid' only once once you have found a bad square\n",
    "    is to print it and stop executing the function at once after you print. That can be \n",
    "    done as follows:\n",
    "    \n",
    "       ```\n",
    "       print \"Invalid!\"\n",
    "       return\n",
    "       ```\n",
    "    "
   ]
  },
  {
   "cell_type": "code",
   "execution_count": null,
   "metadata": {
    "collapsed": true
   },
   "outputs": [],
   "source": [
    "[Your code goes here]"
   ]
  }
 ],
 "metadata": {
  "kernelspec": {
   "display_name": "Python 3",
   "language": "python",
   "name": "python3"
  },
  "language_info": {
   "codemirror_mode": {
    "name": "ipython",
    "version": 3
   },
   "file_extension": ".py",
   "mimetype": "text/x-python",
   "name": "python",
   "nbconvert_exporter": "python",
   "pygments_lexer": "ipython3",
   "version": "3.6.5"
  },
  "toc": {
   "base_numbering": 1,
   "nav_menu": {
    "height": "371px",
    "width": "252px"
   },
   "number_sections": true,
   "sideBar": true,
   "skip_h1_title": false,
   "title_cell": "Table of Contents",
   "title_sidebar": "Contents",
   "toc_cell": false,
   "toc_position": {},
   "toc_section_display": "block",
   "toc_window_display": false
  }
 },
 "nbformat": 4,
 "nbformat_minor": 1
}
