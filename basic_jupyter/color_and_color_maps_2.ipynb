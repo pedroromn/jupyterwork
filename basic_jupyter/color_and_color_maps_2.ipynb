{
 "cells": [
  {
   "cell_type": "markdown",
   "metadata": {
    "deletable": true,
    "editable": true
   },
   "source": [
    "## Color and color maps 2: Correlation heat maps"
   ]
  },
  {
   "cell_type": "markdown",
   "metadata": {
    "deletable": true,
    "editable": true
   },
   "source": [
    "Load the iris data and define the draw colormap function from the previous notebook."
   ]
  },
  {
   "cell_type": "code",
   "execution_count": 2,
   "metadata": {
    "collapsed": true,
    "deletable": true,
    "editable": true
   },
   "outputs": [],
   "source": [
    "%matplotlib inline\n",
    "import pandas as pd\n",
    "import numpy as np\n",
    "from pandas import DataFrame\n",
    "import matplotlib as mpl\n",
    "import matplotlib.pyplot as plt\n",
    "from sklearn import datasets\n",
    "\n",
    "iris = datasets.load_iris()\n",
    "X = iris.data[:,:4]\n",
    "col_labels = iris.feature_names\n",
    "# Shorten the attribute names\n",
    "col_labels = [c[:-5] for c in col_labels]\n",
    "df = pd.DataFrame(X, columns=col_labels)\n",
    "\n",
    "\n",
    "def draw_colormap (cmap_name,width=60,height=4,fontsize=50,fig = None, ax=None,\n",
    "                  ticklabels_bd = (0,1), num_ticks =11):\n",
    "    \"\"\"\n",
    "    cmap_name is a string.\n",
    "    \"\"\"\n",
    "    if fig is None:\n",
    "        fig = plt.figure(figsize=(width,height)) \n",
    "    if ax is None:\n",
    "        ax = plt.gca()\n",
    "    #mpl.rcParams['xtick.labelsize'] = fontsize\n",
    "    #mpl.rcParams['font.size'] = fontsize\n",
    "    # Divide the interval from 0 to 1 into 256 parts.\n",
    "    gradient = np.linspace(0, 1, 256)\n",
    "    # The imshow function actually displays images,\n",
    "    # but you can pass it an array.\n",
    "    # In either case, the function wants 2D info.  \n",
    "    # We give it an array with 2 rows,\n",
    "    # make the top half and bottom half  of the image the same. \n",
    "    # We'll vertically stretch this very skinny image with aspect 'auto'.\n",
    "    # And the value of gradient will change the color value from left to right.\n",
    "    gradient = np.vstack((gradient, gradient))\n",
    "    ax.imshow(gradient, aspect='auto',cmap=plt.get_cmap(cmap_name))\n",
    "    # Show the number values associated with color on x-axis.\n",
    "    # The xvalues that imshow uses are pixel numbers, integers from 0 to 256.\n",
    "    ax.set_xticks(np.linspace(0,256,num_ticks))\n",
    "    # We'll label those with the inputs to the color map, numbers from 0 to 1\n",
    "    ax.set_xticklabels(np.linspace(ticklabels_bd[0],ticklabels_bd[1],num_ticks))\n",
    "    ax.set_yticklabels([])\n",
    " \n",
    "# Put in an color map name you like here.\n",
    "cmap_name = 'coolwarm'"
   ]
  },
  {
   "cell_type": "markdown",
   "metadata": {
    "deletable": true,
    "editable": true
   },
   "source": [
    "The cell above loads the by now familiar iris data set.\n",
    "\n",
    "We do something new with it.  We calculate the **correlations** among all the attributes, including\n",
    "the correlation of each attribute with itself."
   ]
  },
  {
   "cell_type": "code",
   "execution_count": 3,
   "metadata": {
    "collapsed": false,
    "deletable": true,
    "editable": true
   },
   "outputs": [
    {
     "data": {
      "text/html": [
       "<div>\n",
       "<table border=\"1\" class=\"dataframe\">\n",
       "  <thead>\n",
       "    <tr style=\"text-align: right;\">\n",
       "      <th></th>\n",
       "      <th>sepal length</th>\n",
       "      <th>sepal width</th>\n",
       "      <th>petal length</th>\n",
       "      <th>petal width</th>\n",
       "    </tr>\n",
       "  </thead>\n",
       "  <tbody>\n",
       "    <tr>\n",
       "      <th>sepal length</th>\n",
       "      <td>1.000000</td>\n",
       "      <td>-0.109369</td>\n",
       "      <td>0.871754</td>\n",
       "      <td>0.817954</td>\n",
       "    </tr>\n",
       "    <tr>\n",
       "      <th>sepal width</th>\n",
       "      <td>-0.109369</td>\n",
       "      <td>1.000000</td>\n",
       "      <td>-0.420516</td>\n",
       "      <td>-0.356544</td>\n",
       "    </tr>\n",
       "    <tr>\n",
       "      <th>petal length</th>\n",
       "      <td>0.871754</td>\n",
       "      <td>-0.420516</td>\n",
       "      <td>1.000000</td>\n",
       "      <td>0.962757</td>\n",
       "    </tr>\n",
       "    <tr>\n",
       "      <th>petal width</th>\n",
       "      <td>0.817954</td>\n",
       "      <td>-0.356544</td>\n",
       "      <td>0.962757</td>\n",
       "      <td>1.000000</td>\n",
       "    </tr>\n",
       "  </tbody>\n",
       "</table>\n",
       "</div>"
      ],
      "text/plain": [
       "              sepal length  sepal width  petal length  petal width\n",
       "sepal length      1.000000    -0.109369      0.871754     0.817954\n",
       "sepal width      -0.109369     1.000000     -0.420516    -0.356544\n",
       "petal length      0.871754    -0.420516      1.000000     0.962757\n",
       "petal width       0.817954    -0.356544      0.962757     1.000000"
      ]
     },
     "execution_count": 3,
     "metadata": {},
     "output_type": "execute_result"
    }
   ],
   "source": [
    "#calculate correlations between real-valued attributes\n",
    "\n",
    "corMat = df.corr()\n",
    "corMat"
   ]
  },
  {
   "cell_type": "markdown",
   "metadata": {
    "deletable": true,
    "editable": true
   },
   "source": [
    "First let's talk about the meanings of the correlation numbers, which are illustrated with the scatterplots below."
   ]
  },
  {
   "cell_type": "code",
   "execution_count": 4,
   "metadata": {
    "collapsed": false,
    "deletable": true,
    "editable": true,
    "scrolled": true
   },
   "outputs": [
    {
     "data": {
      "image/png": "[encoded data removed]",
      "text/plain": [
       "<IPython.core.display.Image object>"
      ]
     },
     "execution_count": 4,
     "metadata": {},
     "output_type": "execute_result"
    }
   ],
   "source": [
    "from IPython.display import Image\n",
    "Image(filename='corcoef2.png') "
   ]
  },
  {
   "cell_type": "markdown",
   "metadata": {
    "deletable": true,
    "editable": true
   },
   "source": [
    "Note case (d).  There is a clear mathematical relationship between the attributes, but it's not linear.  Because of that the numbers of the y attribute go up when x goes up half the time, but then they go down when x goes up\n",
    "for the other half.  Because we're averaging the correlation pointwise over the entire diagram, these two halves \n",
    "cancel each other out, and we get a final correlation score of `0`, definitely a misleading result."
   ]
  },
  {
   "cell_type": "markdown",
   "metadata": {
    "deletable": true,
    "editable": true
   },
   "source": [
    "Now take a moment to look at the iris correlation table to make sure you understand it.\n",
    "\n",
    "Correlation scores go from -1 to 1.  Perfect correlation is 1.  Perfect negative correlation\n",
    "is -1.\n",
    "\n",
    "Look at petal length and petal width.  They have a correlation of .962757.  That's very high.\n",
    "That means that whenever petal length goes up, petal width almost always goes up by a corresponding\n",
    "amount.  Whenever petal length goes down, petal width almost always goes down by a corresponding amount.\n",
    "The two length attributes also have a fairly high correlation, .871754, and sepal length\n",
    "and petal width also have a fairly high correlation. .817954.\n",
    "\n",
    "However, although length and width are correlated for petals, they are **anticorrelated**\n",
    "for sepals.  They have a negative correlation of -.109369.\n",
    "\n",
    "Notice the entries along the diagonal are all 1.  The correlation of any attribute with\n",
    "itself is perfect, so it's 1.  Notice also that\n",
    "the table is symmetric.  Each correlation not on the diagonal appears twice.\n",
    "So the entry in row 3, column 1 is the same as the entry in row 1, column 3.\n",
    "Verify that that's true, and that it makes sense.\n",
    "\n",
    "What does correlation mean?  Well it means what we said.  If you compare the petal lengths\n",
    "of iris A and iris B, and B has a higher petal length than A, than\n",
    "there is a very good chance that the petal width of B is also bigger than the petal width\n",
    "of A --- **by a corresponding amount**.  We will omit the formula and the definition\n",
    "of correlation here, but intuitively it means that  the distance from the mean in STD units \n",
    "of B's width is very close to the distance from the mean in STD units \n",
    "of A's width.\n",
    "\n",
    "Negative correlation of two attributes means that if A's value for the first is larger\n",
    "than B's value, then A's value for the second will tend to be smaller.\n",
    "\n",
    "Next we try to turn this all into colors.  We're going to use another **divergent** color map\n",
    "because we want to clearly distinguish the negative correlations from the positive\n",
    "correlations.  This one is called **coolwarm**.  Blue (cool) will means negative\n",
    "correlation; red (warm) positive correlation.  The stronger the correlation (positive\n",
    "or negative, the stronger (more saturated) the color.\n",
    "\n",
    "Now here's the **same information** using color.  This kind of plot is called\n",
    "a **correlation heat map**.  Generally we use *hot* colors to represent strong\n",
    "correlation, *cool* colors for negative correlation.  "
   ]
  },
  {
   "cell_type": "code",
   "execution_count": 37,
   "metadata": {
    "collapsed": false,
    "deletable": true,
    "editable": true
   },
   "outputs": [
    {
     "data": {
      "image/png": "[encoded data removed]",
      "text/plain": [
       "<matplotlib.figure.Figure at 0x11b156810>"
      ]
     },
     "metadata": {},
     "output_type": "display_data"
    }
   ],
   "source": [
    "# Make the data frame into an array. Reverse direction of rows to make diagonal point right way.\n",
    "corMat2 = corMat.values[::-1]\n",
    "#corMat2 = corMat.values\n",
    "mpl.rcParams['xtick.labelsize'] = 14\n",
    "mpl.rcParams['font.size'] = 14\n",
    "#pd.set_option('display.width',200)\n",
    "\n",
    "fig, axes = plt.subplots(nrows=2,ncols=1,figsize=(20,10))\n",
    "# Add intuitive labels to axes\n",
    "ax0,ax1 = axes[0],axes[1]\n",
    "ax0.set_xticks(np.linspace(.5,3.5,4))\n",
    "ax0.set_xticklabels(col_labels)\n",
    "\n",
    "ax0.set_yticks(np.linspace(.5,3.5,4))\n",
    "ax0.set_yticklabels(col_labels[::-1],rotation=45)\n",
    "#ax0.set_yticklabels(col_labels,rotation=45)\n",
    "\n",
    "#visualize correlations using heatmap\n",
    "ax0.pcolor(corMat2,cmap=cmap_name)\n",
    "\n",
    "#fig.colorbar(ax0,ticks=np.linspace(0,1,11))\n",
    "draw_colormap(cmap_name,fig=fig,ax=ax1,ticklabels_bd=(-1,1))"
   ]
  },
  {
   "cell_type": "markdown",
   "metadata": {
    "deletable": true,
    "editable": true
   },
   "source": [
    "Using colors is nice but not that helpful here, because there are so few attributes.  Let's try\n",
    "using color with a larger array of attributes.  In data mining mode, we might just be scanning a\n",
    "large square of color patches for patches patches of dark red."
   ]
  },
  {
   "cell_type": "code",
   "execution_count": 10,
   "metadata": {
    "collapsed": false,
    "deletable": true,
    "editable": true
   },
   "outputs": [
    {
     "data": {
      "text/plain": [
       "2"
      ]
     },
     "execution_count": 10,
     "metadata": {},
     "output_type": "execute_result"
    }
   ],
   "source": [
    "list(col_labels.values).index('Height')"
   ]
  },
  {
   "cell_type": "code",
   "execution_count": 5,
   "metadata": {
    "collapsed": false,
    "deletable": true,
    "editable": true
   },
   "outputs": [
    {
     "ename": "NameError",
     "evalue": "name 'apd' is not defined",
     "output_type": "error",
     "traceback": [
      "\u001b[0;31m---------------------------------------------------------------------------\u001b[0m",
      "\u001b[0;31mNameError\u001b[0m                                 Traceback (most recent call last)",
      "\u001b[0;32m<ipython-input-5-ed0928b13081>\u001b[0m in \u001b[0;36m<module>\u001b[0;34m()\u001b[0m\n\u001b[1;32m      1\u001b[0m target_url = (\"http://archive.ics.uci.edu/ml/machine-\"\n\u001b[1;32m      2\u001b[0m               \"learning-databases/abalone/abalone.data\")\n\u001b[0;32m----> 3\u001b[0;31m \u001b[0mabalone\u001b[0m \u001b[0;34m=\u001b[0m \u001b[0mapd\u001b[0m\u001b[0;34m.\u001b[0m\u001b[0mread_csv\u001b[0m\u001b[0;34m(\u001b[0m\u001b[0mtarget_url\u001b[0m\u001b[0;34m,\u001b[0m\u001b[0mheader\u001b[0m\u001b[0;34m=\u001b[0m\u001b[0mNone\u001b[0m\u001b[0;34m,\u001b[0m \u001b[0mprefix\u001b[0m\u001b[0;34m=\u001b[0m\u001b[0;34m\"V\"\u001b[0m\u001b[0;34m)\u001b[0m\u001b[0;34m\u001b[0m\u001b[0m\n\u001b[0m\u001b[1;32m      4\u001b[0m abalone.columns = ['Sex', 'Length', 'Diameter', 'Height',\n\u001b[1;32m      5\u001b[0m                    \u001b[0;34m'Whole weight'\u001b[0m\u001b[0;34m,\u001b[0m \u001b[0;34m'Shucked weight'\u001b[0m\u001b[0;34m,\u001b[0m\u001b[0;34m\u001b[0m\u001b[0m\n",
      "\u001b[0;31mNameError\u001b[0m: name 'apd' is not defined"
     ]
    }
   ],
   "source": [
    "target_url = (\"http://archive.ics.uci.edu/ml/machine-\"\n",
    "              \"learning-databases/abalone/abalone.data\")\n",
    "abalone = apd.read_csv(target_url,header=None, prefix=\"V\")\n",
    "abalone.columns = ['Sex', 'Length', 'Diameter', 'Height',\n",
    "                   'Whole weight', 'Shucked weight',\n",
    "                   'Viscera weight', 'Shell weight', 'Rings']\n",
    "col_labels = abalone.columns[1:]\n",
    "\n",
    "#calculate correlation matrix excluding non numerical atribute 'Sex'\n",
    "corMat = abalone.iloc[:,1:9].corr()\n",
    "corMat2 = corMat.values[::-1]\n",
    "#print correlation matrix\n",
    "print(corMat)\n",
    "\n",
    "\n",
    "summary = abalone.describe()\n",
    "minRings = summary.iloc[3,7]\n",
    "maxRings = summary.iloc[7,7]\n",
    "nrows = len(abalone.index)\n",
    "meanRings = summary.iloc[1,7]\n",
    "sdRings = summary.iloc[2,7]"
   ]
  },
  {
   "cell_type": "code",
   "execution_count": 26,
   "metadata": {
    "collapsed": false,
    "deletable": true,
    "editable": true
   },
   "outputs": [
    {
     "data": {
      "text/plain": [
       "<matplotlib.collections.PolyCollection at 0x118ee8d90>"
      ]
     },
     "execution_count": 26,
     "metadata": {},
     "output_type": "execute_result"
    },
    {
     "data": {
      "image/png": "[encoded data removed]",
      "text/plain": [
       "<matplotlib.figure.Figure at 0x1195fa5d0>"
      ]
     },
     "metadata": {},
     "output_type": "display_data"
    }
   ],
   "source": [
    "fig, axes = plt.subplots(nrows=1,ncols=1,figsize=(20,10))\n",
    "ax0 = axes\n",
    "ax0.set_xticks(np.linspace(.5,7.5,8))\n",
    "ax0.set_xticklabels(col_labels)\n",
    "\n",
    "ax0.set_yticks(np.linspace(.5,7.5,8))\n",
    "ax0.set_yticklabels(col_labels[::-1],rotation=45)\n",
    "#ax0.set_yticklabels(col_labels,rotation=45)\n",
    "\n",
    "#visualize correlations using heatmap\n",
    "plt.pcolor(corMat2,cmap=cmap_name)\n",
    "#plot.show()"
   ]
  },
  {
   "cell_type": "markdown",
   "metadata": {
    "deletable": true,
    "editable": true
   },
   "source": [
    "Looking down the last column is interesting, because it shows none of the attributes has a positive\n",
    "correlation with age.  "
   ]
  },
  {
   "cell_type": "markdown",
   "metadata": {
    "deletable": true,
    "editable": true
   },
   "source": [
    "## Homework"
   ]
  },
  {
   "cell_type": "markdown",
   "metadata": {
    "deletable": true,
    "editable": true
   },
   "source": [
    "1.  Looking at the abalone correlation heat map, what has the strogest correlation with `Length` other than `Length`?\n",
    "2.  What attribute has the strongest negative correlation with age.  Does that mean it's useless at \n",
    "    predicting age?  Explain why or why not.\n",
    "3.  What attribute has the strongest positive correlation with shell weight? Besides shell weight.\n",
    "4.  What pair of attributes comes the closest to \"no relation\" (= zero correlation)?\n",
    "5.  What is the numerical value of the correlation of shell weight with whole weight?\n",
    "6.  What is the numerical value of the correlation of shell weight with viscera weight?\n",
    "7.  Write some code that redraws the correlation heat map with the Rings column and row removed."
   ]
  },
  {
   "cell_type": "code",
   "execution_count": 4,
   "metadata": {
    "collapsed": true,
    "deletable": true,
    "editable": true
   },
   "outputs": [],
   "source": [
    "def corr_from_corr_mat (cormat, attributes, att1, att2):\n",
    "    \"\"\"\n",
    "    cormat is a pandas DataFrame.\n",
    "    attributes is a pandas Index object\n",
    "    \"\"\"\n",
    "    ind1= list(attributes.values).index(att1)\n",
    "    ind2 = list(attributes.values).index(att2)\n",
    "    return cormat.values[ind1,ind2]\n",
    "    "
   ]
  },
  {
   "cell_type": "code",
   "execution_count": 17,
   "metadata": {
    "collapsed": false,
    "deletable": true,
    "editable": true
   },
   "outputs": [
    {
     "data": {
      "text/plain": [
       "numpy.ndarray"
      ]
     },
     "execution_count": 17,
     "metadata": {},
     "output_type": "execute_result"
    }
   ],
   "source": [
    "type(corMat.values)"
   ]
  },
  {
   "cell_type": "code",
   "execution_count": 20,
   "metadata": {
    "collapsed": false,
    "deletable": true,
    "editable": true
   },
   "outputs": [
    {
     "data": {
      "text/plain": [
       "0.96940545670343337"
      ]
     },
     "execution_count": 20,
     "metadata": {},
     "output_type": "execute_result"
    }
   ],
   "source": [
    "corr_from_corr_mat(corMat,col_labels,'Whole weight', 'Shucked weight')"
   ]
  },
  {
   "cell_type": "code",
   "execution_count": null,
   "metadata": {
    "collapsed": true,
    "deletable": true,
    "editable": true
   },
   "outputs": [],
   "source": []
  }
 ],
 "metadata": {
  "kernelspec": {
   "display_name": "Python 2",
   "language": "python",
   "name": "python2"
  },
  "language_info": {
   "codemirror_mode": {
    "name": "ipython",
    "version": 2
   },
   "file_extension": ".py",
   "mimetype": "text/x-python",
   "name": "python",
   "nbconvert_exporter": "python",
   "pygments_lexer": "ipython2",
   "version": "2.7.13"
  },
  "toc": {
   "colors": {
    "hover_highlight": "#DAA520",
    "running_highlight": "#FF0000",
    "selected_highlight": "#FFD700"
   },
   "moveMenuLeft": true,
   "nav_menu": {
    "height": "61px",
    "width": "252px"
   },
   "navigate_menu": true,
   "number_sections": true,
   "sideBar": true,
   "threshold": 4,
   "toc_cell": false,
   "toc_section_display": "block",
   "toc_window_display": false,
   "widenNotebook": false
  }
 },
 "nbformat": 4,
 "nbformat_minor": 0
}
