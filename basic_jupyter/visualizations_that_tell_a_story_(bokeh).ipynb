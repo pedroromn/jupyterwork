{
 "cells": [
  {
   "cell_type": "markdown",
   "metadata": {
    "deletable": true,
    "editable": true
   },
   "source": [
    "# Visualization and Story-telling"
   ]
  },
  {
   "cell_type": "markdown",
   "metadata": {
    "deletable": true,
    "editable": true
   },
   "source": [
    "<img src=\"1280px-Minard.png\"></img>"
   ]
  },
  {
   "cell_type": "markdown",
   "metadata": {
    "deletable": true,
    "editable": true
   },
   "source": [
    "Visualization is a challenging multidisciplinary field that combines elements of mathematics, social science, psychology, and visual art.  We might add to that narrative art, the art of telling a story.  In the justly famous graphic above, due to Charles Joseph Minard,  six kinds of information are combined to tell the story of Napoleon's retreat from Moscow, latitude and longitude, date, troop strength, direction of travel, and temperature.  We see the the temperature and location records from an officer's notebook combined with estimates of troop strength and the army's path from other sources to tell the story of an army traveling enormous distances in an extreme winter and gradually dissolving.  We see that although the great battles may have been the turning points, the events that most clearly determined the next phase of European history may have happened after the battles.\n",
    "\n",
    "In his classic book *The Visual Display of Quantitative Information*, Edward Tufte calls Minard’s graphic of Napoleon in Russia one of the “best statistical drawings ever created.”  Nowadays diagrams like this one are called \"flow diagrams\".  They \n",
    "are also called  Sankey diagrams, after Irish Engineer Matthew Sankey; but Sankey began using diagrams like these around 30 years after the Minard visualisation was published.\n",
    "\n",
    "In this notebook, we'll talk a little bit about story-telling is done with quantitative data."
   ]
  },
  {
   "cell_type": "markdown",
   "metadata": {
    "deletable": true,
    "editable": true
   },
   "source": [
    "# The base example"
   ]
  },
  {
   "cell_type": "code",
   "execution_count": 1,
   "metadata": {
    "collapsed": false,
    "deletable": true,
    "editable": true
   },
   "outputs": [],
   "source": [
    "import pandas as pd\n",
    "from bokeh.plotting import figure, output_file, show\n",
    "from bokeh.sampledata.stocks import AAPL\n",
    "#from bokeh.models import (PanTool, WheelZoomTool)\n",
    "\n",
    "df = pd.DataFrame(AAPL)\n",
    "df['date'] = pd.to_datetime(df['date'])\n",
    "\n",
    "output_file(\"datetime.html\")\n",
    "\n",
    "# create a new plot with a datetime axis type\n",
    "p = figure(plot_width=800, plot_height=250, x_axis_type=\"datetime\")\n",
    "p.line(df['date'], df['close'], color='navy', alpha=0.5)\n",
    "\n",
    "show(p)\n"
   ]
  },
  {
   "cell_type": "markdown",
   "metadata": {
    "deletable": true,
    "editable": true
   },
   "source": [
    "Talk about interaction with the graph."
   ]
  },
  {
   "cell_type": "markdown",
   "metadata": {
    "deletable": true,
    "editable": true
   },
   "source": [
    "# Telling a story with a visualization"
   ]
  },
  {
   "cell_type": "markdown",
   "metadata": {
    "deletable": true,
    "editable": true
   },
   "source": [
    "The code in the cell below illustrates some\n",
    "basic ideas about using `bokeh`, a Python tool for generating interactive visualizations,\n",
    "\n",
    "We're going to create a simple `scatterplot`.  Each point will drawn as a circle.\n",
    "The position of each circle in the plot tells something about one data point.\n",
    "\n",
    "On the final line in the next cell, we ask our browser\n",
    "to display the HTML file we've just created.\n",
    "\n",
    "That will open a new tab in your browser displaying the file, and after looking at that, you'll want\n",
    "to navigate back to the tab displaying this notebook."
   ]
  },
  {
   "cell_type": "code",
   "execution_count": 2,
   "metadata": {
    "collapsed": true,
    "deletable": true,
    "editable": true
   },
   "outputs": [],
   "source": [
    "from bokeh.plotting import figure, show\n",
    "from bokeh.sampledata.autompg import autompg as df\n",
    "from bokeh.models import ColumnDataSource\n",
    "\n",
    "source = ColumnDataSource(df)\n",
    "p = figure()\n",
    "p.circle('index', 'mpg', source=source, fill_color='red', size=8, line_color='black')\n",
    "show(p)\n"
   ]
  },
  {
   "cell_type": "markdown",
   "metadata": {
    "deletable": true,
    "editable": true
   },
   "source": [
    "In this case, each point represents the mileage of a particular model of car.  The higher the point,\n",
    "the higher the mileage. \n",
    "\n",
    "It will be useful to also note: Each point on the `x`-axis represents an ID number for a particular model of car. Each point on the  y-axis represents miles per gallon.\n",
    "\n",
    "The picture created is largely a useless visual artifact.\n",
    "None of the pieces of information we could use to tell\n",
    "a story are available."
   ]
  },
  {
   "cell_type": "markdown",
   "metadata": {
    "deletable": true,
    "editable": true
   },
   "source": [
    "Let's look at the original table for the data and see what we're missing.\n",
    "\n",
    "\n",
    "The `source` instance created in the code above is a bokeh wrapper around a `pandas` data\n",
    "frame.  We'll map back to the data frame and use what we know about data frames."
   ]
  },
  {
   "cell_type": "code",
   "execution_count": 6,
   "metadata": {
    "collapsed": false,
    "deletable": true,
    "editable": true
   },
   "outputs": [
    {
     "data": {
      "text/html": [
       "<div>\n",
       "<table border=\"1\" class=\"dataframe\">\n",
       "  <thead>\n",
       "    <tr style=\"text-align: right;\">\n",
       "      <th></th>\n",
       "      <th>origin</th>\n",
       "      <th>mpg</th>\n",
       "      <th>displ</th>\n",
       "      <th>weight</th>\n",
       "      <th>index</th>\n",
       "      <th>hp</th>\n",
       "      <th>accel</th>\n",
       "      <th>name</th>\n",
       "      <th>yr</th>\n",
       "      <th>cyl</th>\n",
       "    </tr>\n",
       "  </thead>\n",
       "  <tbody>\n",
       "    <tr>\n",
       "      <th>0</th>\n",
       "      <td>1</td>\n",
       "      <td>18.0</td>\n",
       "      <td>307.0</td>\n",
       "      <td>3504</td>\n",
       "      <td>0</td>\n",
       "      <td>130</td>\n",
       "      <td>12.0</td>\n",
       "      <td>chevrolet chevelle malibu</td>\n",
       "      <td>70</td>\n",
       "      <td>8</td>\n",
       "    </tr>\n",
       "    <tr>\n",
       "      <th>1</th>\n",
       "      <td>1</td>\n",
       "      <td>15.0</td>\n",
       "      <td>350.0</td>\n",
       "      <td>3693</td>\n",
       "      <td>1</td>\n",
       "      <td>165</td>\n",
       "      <td>11.5</td>\n",
       "      <td>buick skylark 320</td>\n",
       "      <td>70</td>\n",
       "      <td>8</td>\n",
       "    </tr>\n",
       "    <tr>\n",
       "      <th>2</th>\n",
       "      <td>1</td>\n",
       "      <td>18.0</td>\n",
       "      <td>318.0</td>\n",
       "      <td>3436</td>\n",
       "      <td>2</td>\n",
       "      <td>150</td>\n",
       "      <td>11.0</td>\n",
       "      <td>plymouth satellite</td>\n",
       "      <td>70</td>\n",
       "      <td>8</td>\n",
       "    </tr>\n",
       "    <tr>\n",
       "      <th>3</th>\n",
       "      <td>1</td>\n",
       "      <td>16.0</td>\n",
       "      <td>304.0</td>\n",
       "      <td>3433</td>\n",
       "      <td>3</td>\n",
       "      <td>150</td>\n",
       "      <td>12.0</td>\n",
       "      <td>amc rebel sst</td>\n",
       "      <td>70</td>\n",
       "      <td>8</td>\n",
       "    </tr>\n",
       "    <tr>\n",
       "      <th>4</th>\n",
       "      <td>1</td>\n",
       "      <td>17.0</td>\n",
       "      <td>302.0</td>\n",
       "      <td>3449</td>\n",
       "      <td>4</td>\n",
       "      <td>140</td>\n",
       "      <td>10.5</td>\n",
       "      <td>ford torino</td>\n",
       "      <td>70</td>\n",
       "      <td>8</td>\n",
       "    </tr>\n",
       "    <tr>\n",
       "      <th>5</th>\n",
       "      <td>1</td>\n",
       "      <td>15.0</td>\n",
       "      <td>429.0</td>\n",
       "      <td>4341</td>\n",
       "      <td>5</td>\n",
       "      <td>198</td>\n",
       "      <td>10.0</td>\n",
       "      <td>ford galaxie 500</td>\n",
       "      <td>70</td>\n",
       "      <td>8</td>\n",
       "    </tr>\n",
       "    <tr>\n",
       "      <th>6</th>\n",
       "      <td>1</td>\n",
       "      <td>14.0</td>\n",
       "      <td>454.0</td>\n",
       "      <td>4354</td>\n",
       "      <td>6</td>\n",
       "      <td>220</td>\n",
       "      <td>9.0</td>\n",
       "      <td>chevrolet impala</td>\n",
       "      <td>70</td>\n",
       "      <td>8</td>\n",
       "    </tr>\n",
       "    <tr>\n",
       "      <th>7</th>\n",
       "      <td>1</td>\n",
       "      <td>14.0</td>\n",
       "      <td>440.0</td>\n",
       "      <td>4312</td>\n",
       "      <td>7</td>\n",
       "      <td>215</td>\n",
       "      <td>8.5</td>\n",
       "      <td>plymouth fury iii</td>\n",
       "      <td>70</td>\n",
       "      <td>8</td>\n",
       "    </tr>\n",
       "    <tr>\n",
       "      <th>8</th>\n",
       "      <td>1</td>\n",
       "      <td>14.0</td>\n",
       "      <td>455.0</td>\n",
       "      <td>4425</td>\n",
       "      <td>8</td>\n",
       "      <td>225</td>\n",
       "      <td>10.0</td>\n",
       "      <td>pontiac catalina</td>\n",
       "      <td>70</td>\n",
       "      <td>8</td>\n",
       "    </tr>\n",
       "    <tr>\n",
       "      <th>9</th>\n",
       "      <td>1</td>\n",
       "      <td>15.0</td>\n",
       "      <td>390.0</td>\n",
       "      <td>3850</td>\n",
       "      <td>9</td>\n",
       "      <td>190</td>\n",
       "      <td>8.5</td>\n",
       "      <td>amc ambassador dpl</td>\n",
       "      <td>70</td>\n",
       "      <td>8</td>\n",
       "    </tr>\n",
       "    <tr>\n",
       "      <th>10</th>\n",
       "      <td>1</td>\n",
       "      <td>15.0</td>\n",
       "      <td>383.0</td>\n",
       "      <td>3563</td>\n",
       "      <td>10</td>\n",
       "      <td>170</td>\n",
       "      <td>10.0</td>\n",
       "      <td>dodge challenger se</td>\n",
       "      <td>70</td>\n",
       "      <td>8</td>\n",
       "    </tr>\n",
       "    <tr>\n",
       "      <th>11</th>\n",
       "      <td>1</td>\n",
       "      <td>14.0</td>\n",
       "      <td>340.0</td>\n",
       "      <td>3609</td>\n",
       "      <td>11</td>\n",
       "      <td>160</td>\n",
       "      <td>8.0</td>\n",
       "      <td>plymouth 'cuda 340</td>\n",
       "      <td>70</td>\n",
       "      <td>8</td>\n",
       "    </tr>\n",
       "    <tr>\n",
       "      <th>12</th>\n",
       "      <td>1</td>\n",
       "      <td>15.0</td>\n",
       "      <td>400.0</td>\n",
       "      <td>3761</td>\n",
       "      <td>12</td>\n",
       "      <td>150</td>\n",
       "      <td>9.5</td>\n",
       "      <td>chevrolet monte carlo</td>\n",
       "      <td>70</td>\n",
       "      <td>8</td>\n",
       "    </tr>\n",
       "    <tr>\n",
       "      <th>13</th>\n",
       "      <td>1</td>\n",
       "      <td>14.0</td>\n",
       "      <td>455.0</td>\n",
       "      <td>3086</td>\n",
       "      <td>13</td>\n",
       "      <td>225</td>\n",
       "      <td>10.0</td>\n",
       "      <td>buick estate wagon (sw)</td>\n",
       "      <td>70</td>\n",
       "      <td>8</td>\n",
       "    </tr>\n",
       "    <tr>\n",
       "      <th>14</th>\n",
       "      <td>3</td>\n",
       "      <td>24.0</td>\n",
       "      <td>113.0</td>\n",
       "      <td>2372</td>\n",
       "      <td>14</td>\n",
       "      <td>95</td>\n",
       "      <td>15.0</td>\n",
       "      <td>toyota corona mark ii</td>\n",
       "      <td>70</td>\n",
       "      <td>4</td>\n",
       "    </tr>\n",
       "    <tr>\n",
       "      <th>15</th>\n",
       "      <td>1</td>\n",
       "      <td>22.0</td>\n",
       "      <td>198.0</td>\n",
       "      <td>2833</td>\n",
       "      <td>15</td>\n",
       "      <td>95</td>\n",
       "      <td>15.5</td>\n",
       "      <td>plymouth duster</td>\n",
       "      <td>70</td>\n",
       "      <td>6</td>\n",
       "    </tr>\n",
       "    <tr>\n",
       "      <th>16</th>\n",
       "      <td>1</td>\n",
       "      <td>18.0</td>\n",
       "      <td>199.0</td>\n",
       "      <td>2774</td>\n",
       "      <td>16</td>\n",
       "      <td>97</td>\n",
       "      <td>15.5</td>\n",
       "      <td>amc hornet</td>\n",
       "      <td>70</td>\n",
       "      <td>6</td>\n",
       "    </tr>\n",
       "    <tr>\n",
       "      <th>17</th>\n",
       "      <td>1</td>\n",
       "      <td>21.0</td>\n",
       "      <td>200.0</td>\n",
       "      <td>2587</td>\n",
       "      <td>17</td>\n",
       "      <td>85</td>\n",
       "      <td>16.0</td>\n",
       "      <td>ford maverick</td>\n",
       "      <td>70</td>\n",
       "      <td>6</td>\n",
       "    </tr>\n",
       "    <tr>\n",
       "      <th>18</th>\n",
       "      <td>3</td>\n",
       "      <td>27.0</td>\n",
       "      <td>97.0</td>\n",
       "      <td>2130</td>\n",
       "      <td>18</td>\n",
       "      <td>88</td>\n",
       "      <td>14.5</td>\n",
       "      <td>datsun pl510</td>\n",
       "      <td>70</td>\n",
       "      <td>4</td>\n",
       "    </tr>\n",
       "    <tr>\n",
       "      <th>19</th>\n",
       "      <td>2</td>\n",
       "      <td>26.0</td>\n",
       "      <td>97.0</td>\n",
       "      <td>1835</td>\n",
       "      <td>19</td>\n",
       "      <td>46</td>\n",
       "      <td>20.5</td>\n",
       "      <td>volkswagen 1131 deluxe sedan</td>\n",
       "      <td>70</td>\n",
       "      <td>4</td>\n",
       "    </tr>\n",
       "  </tbody>\n",
       "</table>\n",
       "</div>"
      ],
      "text/plain": [
       "    origin   mpg  displ  weight  index   hp  accel  \\\n",
       "0        1  18.0  307.0    3504      0  130   12.0   \n",
       "1        1  15.0  350.0    3693      1  165   11.5   \n",
       "2        1  18.0  318.0    3436      2  150   11.0   \n",
       "3        1  16.0  304.0    3433      3  150   12.0   \n",
       "4        1  17.0  302.0    3449      4  140   10.5   \n",
       "5        1  15.0  429.0    4341      5  198   10.0   \n",
       "6        1  14.0  454.0    4354      6  220    9.0   \n",
       "7        1  14.0  440.0    4312      7  215    8.5   \n",
       "8        1  14.0  455.0    4425      8  225   10.0   \n",
       "9        1  15.0  390.0    3850      9  190    8.5   \n",
       "10       1  15.0  383.0    3563     10  170   10.0   \n",
       "11       1  14.0  340.0    3609     11  160    8.0   \n",
       "12       1  15.0  400.0    3761     12  150    9.5   \n",
       "13       1  14.0  455.0    3086     13  225   10.0   \n",
       "14       3  24.0  113.0    2372     14   95   15.0   \n",
       "15       1  22.0  198.0    2833     15   95   15.5   \n",
       "16       1  18.0  199.0    2774     16   97   15.5   \n",
       "17       1  21.0  200.0    2587     17   85   16.0   \n",
       "18       3  27.0   97.0    2130     18   88   14.5   \n",
       "19       2  26.0   97.0    1835     19   46   20.5   \n",
       "\n",
       "                            name  yr  cyl  \n",
       "0      chevrolet chevelle malibu  70    8  \n",
       "1              buick skylark 320  70    8  \n",
       "2             plymouth satellite  70    8  \n",
       "3                  amc rebel sst  70    8  \n",
       "4                    ford torino  70    8  \n",
       "5               ford galaxie 500  70    8  \n",
       "6               chevrolet impala  70    8  \n",
       "7              plymouth fury iii  70    8  \n",
       "8               pontiac catalina  70    8  \n",
       "9             amc ambassador dpl  70    8  \n",
       "10           dodge challenger se  70    8  \n",
       "11            plymouth 'cuda 340  70    8  \n",
       "12         chevrolet monte carlo  70    8  \n",
       "13       buick estate wagon (sw)  70    8  \n",
       "14         toyota corona mark ii  70    4  \n",
       "15               plymouth duster  70    6  \n",
       "16                    amc hornet  70    6  \n",
       "17                 ford maverick  70    6  \n",
       "18                  datsun pl510  70    4  \n",
       "19  volkswagen 1131 deluxe sedan  70    4  "
      ]
     },
     "execution_count": 6,
     "metadata": {},
     "output_type": "execute_result"
    }
   ],
   "source": [
    "source.to_df()[:20]"
   ]
  },
  {
   "cell_type": "markdown",
   "metadata": {
    "deletable": true,
    "editable": true
   },
   "source": [
    "There are many stories we could tell with this data.  But we can't begin to tell one\n",
    "until we come up with a **question**.  We'd like not just any question, but\n",
    "a question that has some significance.  Since mileage is clearly  an important component\n",
    "of the data, let's ask a question about mileage.  Since manufacturing low mileage vehicles\n",
    "is clearly a trend in modern automobile manufacture, let's ask about that.\n",
    "Noting that the manufacturer\n",
    "is represented in the model `name`, let's try and say something about **which manufacturers**\n",
    "are paying attention to making cars with good mileage.  \n",
    "\n",
    "Now we've made some progress.\n",
    "\n",
    "Let's also try and reduce some clutter.  Since\n",
    "we want to tell a story about cars with good mileage,\n",
    "the obvious first step is to filter out the data points\n",
    "for cars with very poor mileage.\n",
    "\n",
    "Combining elements\n",
    "\n",
    "0. Too many points => filtering points by a value (MPG)\n",
    "1. Adding computed columns to a data frame. We want to tell a story about\n",
    "manufacturers.  Add a computed manufacturer column.\n",
    "2.  All same color => choosing color by attribute (manufacturer)\n",
    "3.  Adding computed columns.  Add fill_color column and line_color columns based on the manuyfacturer\n",
    "column just added.\n",
    "4. Customizing line color as well as fill color (darker colors get a different outline than bright colors)\n",
    "5. Using index as plotted value  =>  Plotting points by manufacturer\n",
    "6. Overlapping tick labels => rotating tick labels."
   ]
  },
  {
   "cell_type": "markdown",
   "metadata": {
    "deletable": true,
    "editable": true
   },
   "source": [
    "# Improving the visualization."
   ]
  },
  {
   "cell_type": "code",
   "execution_count": 3,
   "metadata": {
    "collapsed": true,
    "deletable": true,
    "editable": true
   },
   "outputs": [],
   "source": [
    "from bokeh.plotting import figure, show\n",
    "from bokeh.sampledata.autompg import autompg as df\n",
    "from bokeh.models import ColumnDataSource\n",
    "source = ColumnDataSource(df)"
   ]
  },
  {
   "cell_type": "markdown",
   "metadata": {
    "deletable": true,
    "editable": true
   },
   "source": [
    "Next we filter out the poor mileage cars."
   ]
  },
  {
   "cell_type": "code",
   "execution_count": 4,
   "metadata": {
    "collapsed": true,
    "deletable": true,
    "editable": true
   },
   "outputs": [],
   "source": [
    "better = df[df['mpg'] >= 30.0]\n",
    "better = better.copy()"
   ]
  },
  {
   "cell_type": "markdown",
   "metadata": {
    "deletable": true,
    "editable": true
   },
   "source": [
    "Now we're going to create 3 new columns, 2 with color information, 1 with the manufacturer.\n",
    "\n",
    "All are computed columns.  We compute the values of each cell based on other values in the same\n",
    "row."
   ]
  },
  {
   "cell_type": "code",
   "execution_count": 7,
   "metadata": {
    "collapsed": false,
    "deletable": true,
    "editable": true
   },
   "outputs": [],
   "source": [
    "def find_manufacturer (name):\n",
    "    mnfctr = name.split()[0]\n",
    "    mnfctr = mnfctr.split('-')[0]\n",
    "    if mnfctr == 'vw':\n",
    "        return 'volkswagen'\n",
    "    else:\n",
    "        return mnfctr\n",
    "\n",
    "def assign_colors (model_name):\n",
    "    if model_name.startswith('honda'):\n",
    "        return 'green'\n",
    "    elif model_name.startswith('mazda'):\n",
    "        return 'red'\n",
    "    elif model_name.startswith('datsun'):\n",
    "        return 'blue'\n",
    "    elif model_name.startswith('plymouth'):\n",
    "        return 'indigo'\n",
    "    elif model_name.startswith('toyota'):\n",
    "        return 'firebrick'\n",
    "    elif (model_name.startswith('vw') or model_name.startswith('volkswagen')):\n",
    "        return 'yellow'\n",
    "    else:\n",
    "        return 'black'\n",
    "\n",
    "def assign_line_colors (color):\n",
    "    \"\"\"\n",
    "    Get contrasting outline for darker colors.\n",
    "    \"\"\"\n",
    "    if color.startswith('bl') or  color.startswith('indi'):\n",
    "        return 'red'\n",
    "    else:\n",
    "        return 'black'\n",
    "\n",
    "better['fill_color'] = better['name'].map(assign_colors)\n",
    "better['line_color'] = better['fill_color'].map(assign_line_colors)\n",
    "better['manufacturer'] = better['name'].map(find_manufacturer)"
   ]
  },
  {
   "cell_type": "markdown",
   "metadata": {
    "deletable": true,
    "editable": true
   },
   "source": [
    "In the new plot we're going to arrange out points into columns, one column for each\n",
    "manufacturer, so the coordinate of each point is determined by the manufacturer.\n",
    "\n",
    "We make a set called `v_set` of the possible manufacturers, and we create our figure\n",
    "specifiying taht as the range of possible x-values."
   ]
  },
  {
   "cell_type": "code",
   "execution_count": 6,
   "metadata": {
    "collapsed": false,
    "deletable": true,
    "editable": true
   },
   "outputs": [],
   "source": [
    "v_set = sorted(list(set(better['manufacturer'].values)))\n",
    "\n",
    "p = figure(x_range=v_set)"
   ]
  },
  {
   "cell_type": "markdown",
   "metadata": {
    "deletable": true,
    "editable": true
   },
   "source": [
    "The next line does most of the work in drawing the plot."
   ]
  },
  {
   "cell_type": "code",
   "execution_count": 8,
   "metadata": {
    "collapsed": false,
    "deletable": true,
    "editable": true
   },
   "outputs": [
    {
     "data": {
      "text/html": [
       "<div style=\"display: table;\"><div style=\"display: table-row;\"><div style=\"display: table-cell;\"><b title=\"bokeh.models.renderers.GlyphRenderer\">GlyphRenderer</b>(</div><div style=\"display: table-cell;\">id&nbsp;=&nbsp;'165969b1-3ac2-443b-9a45-caa56fcf1cd6', <span id=\"a6b2f083-b5e1-43cc-b2a5-f84dba88f044\" style=\"cursor: pointer;\">&hellip;)</span></div></div><div class=\"e8e5c341-cbf7-4190-ac26-9d358a4317b9\" style=\"display: none;\"><div style=\"display: table-cell;\"></div><div style=\"display: table-cell;\">data_source&nbsp;=&nbsp;ColumnDataSource(id='b7a66e78-8776-4a27-8ea5-31c238035657', ...),</div></div><div class=\"e8e5c341-cbf7-4190-ac26-9d358a4317b9\" style=\"display: none;\"><div style=\"display: table-cell;\"></div><div style=\"display: table-cell;\">glyph&nbsp;=&nbsp;Circle(id='08341ee1-7d4f-4bcf-a941-1be93d69b239', ...),</div></div><div class=\"e8e5c341-cbf7-4190-ac26-9d358a4317b9\" style=\"display: none;\"><div style=\"display: table-cell;\"></div><div style=\"display: table-cell;\">hover_glyph&nbsp;=&nbsp;None,</div></div><div class=\"e8e5c341-cbf7-4190-ac26-9d358a4317b9\" style=\"display: none;\"><div style=\"display: table-cell;\"></div><div style=\"display: table-cell;\">js_event_callbacks&nbsp;=&nbsp;{},</div></div><div class=\"e8e5c341-cbf7-4190-ac26-9d358a4317b9\" style=\"display: none;\"><div style=\"display: table-cell;\"></div><div style=\"display: table-cell;\">js_property_callbacks&nbsp;=&nbsp;{},</div></div><div class=\"e8e5c341-cbf7-4190-ac26-9d358a4317b9\" style=\"display: none;\"><div style=\"display: table-cell;\"></div><div style=\"display: table-cell;\">level&nbsp;=&nbsp;'glyph',</div></div><div class=\"e8e5c341-cbf7-4190-ac26-9d358a4317b9\" style=\"display: none;\"><div style=\"display: table-cell;\"></div><div style=\"display: table-cell;\">muted&nbsp;=&nbsp;False,</div></div><div class=\"e8e5c341-cbf7-4190-ac26-9d358a4317b9\" style=\"display: none;\"><div style=\"display: table-cell;\"></div><div style=\"display: table-cell;\">muted_glyph&nbsp;=&nbsp;None,</div></div><div class=\"e8e5c341-cbf7-4190-ac26-9d358a4317b9\" style=\"display: none;\"><div style=\"display: table-cell;\"></div><div style=\"display: table-cell;\">name&nbsp;=&nbsp;None,</div></div><div class=\"e8e5c341-cbf7-4190-ac26-9d358a4317b9\" style=\"display: none;\"><div style=\"display: table-cell;\"></div><div style=\"display: table-cell;\">nonselection_glyph&nbsp;=&nbsp;Circle(id='c95f08fd-608c-48a5-aa73-fbe313f9c0db', ...),</div></div><div class=\"e8e5c341-cbf7-4190-ac26-9d358a4317b9\" style=\"display: none;\"><div style=\"display: table-cell;\"></div><div style=\"display: table-cell;\">selection_glyph&nbsp;=&nbsp;None,</div></div><div class=\"e8e5c341-cbf7-4190-ac26-9d358a4317b9\" style=\"display: none;\"><div style=\"display: table-cell;\"></div><div style=\"display: table-cell;\">subscribed_events&nbsp;=&nbsp;[],</div></div><div class=\"e8e5c341-cbf7-4190-ac26-9d358a4317b9\" style=\"display: none;\"><div style=\"display: table-cell;\"></div><div style=\"display: table-cell;\">tags&nbsp;=&nbsp;[],</div></div><div class=\"e8e5c341-cbf7-4190-ac26-9d358a4317b9\" style=\"display: none;\"><div style=\"display: table-cell;\"></div><div style=\"display: table-cell;\">visible&nbsp;=&nbsp;True,</div></div><div class=\"e8e5c341-cbf7-4190-ac26-9d358a4317b9\" style=\"display: none;\"><div style=\"display: table-cell;\"></div><div style=\"display: table-cell;\">x_range_name&nbsp;=&nbsp;'default',</div></div><div class=\"e8e5c341-cbf7-4190-ac26-9d358a4317b9\" style=\"display: none;\"><div style=\"display: table-cell;\"></div><div style=\"display: table-cell;\">y_range_name&nbsp;=&nbsp;'default')</div></div></div>\n",
       "<script>\n",
       "(function() {\n",
       "  var expanded = false;\n",
       "  var ellipsis = document.getElementById(\"a6b2f083-b5e1-43cc-b2a5-f84dba88f044\");\n",
       "  ellipsis.addEventListener(\"click\", function() {\n",
       "    var rows = document.getElementsByClassName(\"e8e5c341-cbf7-4190-ac26-9d358a4317b9\");\n",
       "    for (var i = 0; i < rows.length; i++) {\n",
       "      var el = rows[i];\n",
       "      el.style.display = expanded ? \"none\" : \"table-row\";\n",
       "    }\n",
       "    ellipsis.innerHTML = expanded ? \"&hellip;)\" : \"&lsaquo;&lsaquo;&lsaquo;\";\n",
       "    expanded = !expanded;\n",
       "  });\n",
       "})();\n",
       "</script>\n"
      ],
      "text/plain": [
       "GlyphRenderer(id='165969b1-3ac2-443b-9a45-caa56fcf1cd6', ...)"
      ]
     },
     "execution_count": 8,
     "metadata": {},
     "output_type": "execute_result"
    }
   ],
   "source": [
    "p.circle('manufacturer', 'mpg', source=better, fill_color='fill_color', size=10, line_color='line_color')"
   ]
  },
  {
   "cell_type": "code",
   "execution_count": 9,
   "metadata": {
    "collapsed": true,
    "deletable": true,
    "editable": true
   },
   "outputs": [],
   "source": [
    "p.xaxis.axis_label = 'Manufacturer'\n",
    "p.xaxis.major_label_orientation = 45\n",
    "p.yaxis.axis_label = 'MPG'\n",
    "show(p)"
   ]
  },
  {
   "cell_type": "markdown",
   "metadata": {
    "deletable": true,
    "editable": true
   },
   "source": [
    "# Iris example "
   ]
  },
  {
   "cell_type": "markdown",
   "metadata": {
    "deletable": true,
    "editable": true
   },
   "source": [
    "We look at the classic example of the Iris data.\n",
    "\n",
    "We want to look at which of the four attributes in the data tell us something that helps us distinguish\n",
    "the three iris species.  "
   ]
  },
  {
   "cell_type": "code",
   "execution_count": 11,
   "metadata": {
    "collapsed": true,
    "deletable": true,
    "editable": true
   },
   "outputs": [],
   "source": [
    "from __future__ import print_function\n",
    "\n",
    "from bokeh.document import Document\n",
    "from bokeh.embed import file_html\n",
    "from bokeh.layouts import gridplot\n",
    "from bokeh.models.glyphs import Circle\n",
    "from bokeh.models import (BasicTicker, ColumnDataSource, Grid, LinearAxis,\n",
    "                         DataRange1d, PanTool, Plot, WheelZoomTool)\n",
    "from bokeh.resources import INLINE\n",
    "from bokeh.sampledata.iris import flowers\n",
    "from bokeh.util.browser import view\n",
    "\n",
    "colormap = {'setosa': 'red', 'versicolor': 'green', 'virginica': 'blue'}"
   ]
  },
  {
   "cell_type": "markdown",
   "metadata": {
    "deletable": true,
    "editable": true
   },
   "source": [
    "First note that the imports include importing some data.  The iris data is\n",
    "imported as a `pandas` datframe under the name `flowers`.\n",
    "\n",
    "As the colormap dictionary suggests,\n",
    "we want to color different species differently. \n",
    "To make doing that simpler, we'll augment `flowers` with a new column whose value for the current row\n",
    "is computed by applying lambda x: colormap[x] to the species value."
   ]
  },
  {
   "cell_type": "code",
   "execution_count": 12,
   "metadata": {
    "collapsed": true,
    "deletable": true,
    "editable": true
   },
   "outputs": [],
   "source": [
    "flowers['color'] = flowers['species'].map(lambda x: colormap[x])"
   ]
  },
  {
   "cell_type": "markdown",
   "metadata": {
    "deletable": true,
    "editable": true
   },
   "source": [
    "Done! "
   ]
  },
  {
   "cell_type": "markdown",
   "metadata": {
    "deletable": true,
    "editable": true
   },
   "source": [
    "Next we place all the data we need for plotting in a `bokeh` wrapper."
   ]
  },
  {
   "cell_type": "code",
   "execution_count": 13,
   "metadata": {
    "collapsed": true,
    "deletable": true,
    "editable": true
   },
   "outputs": [],
   "source": [
    "source = ColumnDataSource(\n",
    "    data=dict(\n",
    "        petal_length=flowers['petal_length'],\n",
    "        petal_width=flowers['petal_width'],\n",
    "        sepal_length=flowers['sepal_length'],\n",
    "        sepal_width=flowers['sepal_width'],\n",
    "        color=flowers['color']\n",
    "    )\n",
    ")"
   ]
  },
  {
   "cell_type": "markdown",
   "metadata": {
    "deletable": true,
    "editable": true
   },
   "source": [
    "We're going to make a grid consisting of 16 different plots.  Apart\n",
    "species and color, we have 4 flower attributes and\n",
    "we'll have a plot for each pairing of those attributes.  We'll even have a plot when an \n",
    "attribute is paired with itself, though we'll make those plots look different than the others.\n",
    "\n",
    "We'll define a `make_plot` functions whose job is to draw one of the 16 plots.\n",
    "It takes two attribute bames, and a couple of boolean attributes as arguments.\n",
    "\n",
    "The attribute `xax` is `True` if an xaxis should be drawn and false otherwise,\n",
    "and similarly for `yax`."
   ]
  },
  {
   "cell_type": "code",
   "execution_count": 14,
   "metadata": {
    "collapsed": true,
    "deletable": true,
    "editable": true
   },
   "outputs": [],
   "source": [
    "xdr = DataRange1d(bounds=None)\n",
    "ydr = DataRange1d(bounds=None)\n",
    "\n",
    "def make_plot(xname, yname, xax=False, yax=False):\n",
    "    mbl = 40 if yax else 0  # Min Border Left (margin?)\n",
    "    mbb = 40 if xax else 0  # Min Border Bottom (margin?)\n",
    "    \n",
    "    # Basic Plot Obj (what normally goes inside a Figure, but we're doing a multiplot in this exercise)\n",
    "    plot = Plot(\n",
    "        x_range=xdr, y_range=ydr, background_fill_color=\"#efe8e2\",\n",
    "        border_fill_color='white', plot_width=200 + mbl, plot_height=200 + mbb,\n",
    "        min_border_left=2+mbl, min_border_right=2, min_border_top=2, min_border_bottom=2+mbb)\n",
    "\n",
    "    # scatter points using circle style.  Use data table \"source\".  Get values for plot coords x from xname and y from yname.\n",
    "    # The implicit idea is one point per row. Get fill_color and line_color from \"color\" attribute of row. \n",
    "    circle = Circle(x=xname, y=yname, fill_color=\"color\", fill_alpha=0.2, size=4, line_color=\"color\")\n",
    "    r = plot.add_glyph(source, circle)\n",
    "\n",
    "    xdr.renderers.append(r)\n",
    "    ydr.renderers.append(r)\n",
    "\n",
    "    xticker = BasicTicker()\n",
    "    if xax:\n",
    "        xaxis = LinearAxis()\n",
    "        plot.add_layout(xaxis, 'below')\n",
    "        xticker = xaxis.ticker\n",
    "    plot.add_layout(Grid(dimension=0, ticker=xticker))\n",
    "\n",
    "    yticker = BasicTicker()\n",
    "    if yax:\n",
    "        yaxis = LinearAxis()\n",
    "        plot.add_layout(yaxis, 'left')\n",
    "        yticker = yaxis.ticker\n",
    "    plot.add_layout(Grid(dimension=1, ticker=yticker))\n",
    "\n",
    "    plot.add_tools(PanTool(), WheelZoomTool())\n",
    "\n",
    "    return plot"
   ]
  },
  {
   "cell_type": "markdown",
   "metadata": {
    "deletable": true,
    "editable": true
   },
   "source": [
    "Here are the attributes we'll plot on the-axis"
   ]
  },
  {
   "cell_type": "code",
   "execution_count": 15,
   "metadata": {
    "collapsed": true,
    "deletable": true,
    "editable": true
   },
   "outputs": [],
   "source": [
    "xattrs = [\"petal_length\", \"petal_width\", \"sepal_width\", \"sepal_length\"]"
   ]
  },
  {
   "cell_type": "markdown",
   "metadata": {
    "deletable": true,
    "editable": true
   },
   "source": [
    "We'll plot the same attributes on the y-axis, but we'll list them backward.\n",
    "\n",
    "This way we plot att x vs att x in row x, col n-x (diag goes from right to left)."
   ]
  },
  {
   "cell_type": "code",
   "execution_count": 16,
   "metadata": {
    "collapsed": true,
    "deletable": true,
    "editable": true
   },
   "outputs": [],
   "source": [
    "yattrs = list(reversed(xattrs))"
   ]
  },
  {
   "cell_type": "markdown",
   "metadata": {
    "deletable": true,
    "editable": true
   },
   "source": [
    "Next we collect our 16 plots in the list `plots`.  We're going to make a 4x4 grid,\n",
    "so we'll build a list of 4 rows, each row being a lits that contains 4 plots."
   ]
  },
  {
   "cell_type": "code",
   "execution_count": 17,
   "metadata": {
    "collapsed": true,
    "deletable": true,
    "editable": true
   },
   "outputs": [],
   "source": [
    "plots = []\n",
    "\n",
    "# Building a 4x4 grid of plots in this double loop.\n",
    "# Each \n",
    "# Each plot is a Plot obj returned by make_plot\n",
    "# plotting a pair of attributes in the iris data.\n",
    "# The diagonal shows each att plotted against itself\n",
    "for y in yattrs:\n",
    "    row = []\n",
    "    for x in xattrs:\n",
    "        # boolean specifying whether to show xaxis ticks in this subplot\n",
    "        # Only show xticks in last row\n",
    "        xax = (y == yattrs[-1])\n",
    "        # Only show yticks in first col\n",
    "        yax = (x == xattrs[0])\n",
    "        plot = make_plot(x, y, xax, yax)\n",
    "        row.append(plot)\n",
    "    plots.append(row)"
   ]
  },
  {
   "cell_type": "markdown",
   "metadata": {
    "deletable": true,
    "editable": true
   },
   "source": [
    "Next we use the bokeh facility for drawing a grid of plots."
   ]
  },
  {
   "cell_type": "code",
   "execution_count": 20,
   "metadata": {
    "collapsed": true,
    "deletable": true,
    "editable": true
   },
   "outputs": [],
   "source": [
    "grid = gridplot(plots)"
   ]
  },
  {
   "cell_type": "markdown",
   "metadata": {
    "deletable": true,
    "editable": true
   },
   "source": [
    "Next we output our grid to an HTML file, letting `bokeh` take care of all the gruesome details\n",
    "of creating HTML and javascript.  On the final line in the next cell, we ask our browser\n",
    "to display the HTML file we've just created.\n",
    "\n",
    "That will open a new tab in your broqswer displaying the file, and after looking at you'll want\n",
    "to navigate back to the tab displaying this notebook."
   ]
  },
  {
   "cell_type": "code",
   "execution_count": 21,
   "metadata": {
    "collapsed": false,
    "deletable": true,
    "editable": true
   },
   "outputs": [
    {
     "ename": "RuntimeError",
     "evalue": "Models must be owned by only a single document, Plot(id='d0b8ca88-3524-4237-bfb9-62851e566721', ...) is already in a doc",
     "output_type": "error",
     "traceback": [
      "\u001b[0;31m---------------------------------------------------------------------------\u001b[0m",
      "\u001b[0;31mRuntimeError\u001b[0m                              Traceback (most recent call last)",
      "\u001b[0;32m<ipython-input-21-b1376fa70890>\u001b[0m in \u001b[0;36m<module>\u001b[0;34m()\u001b[0m\n\u001b[1;32m      1\u001b[0m \u001b[0mdoc\u001b[0m \u001b[0;34m=\u001b[0m \u001b[0mDocument\u001b[0m\u001b[0;34m(\u001b[0m\u001b[0;34m)\u001b[0m\u001b[0;34m\u001b[0m\u001b[0m\n\u001b[0;32m----> 2\u001b[0;31m \u001b[0mdoc\u001b[0m\u001b[0;34m.\u001b[0m\u001b[0madd_root\u001b[0m\u001b[0;34m(\u001b[0m\u001b[0mgrid\u001b[0m\u001b[0;34m)\u001b[0m\u001b[0;34m\u001b[0m\u001b[0m\n\u001b[0m\u001b[1;32m      3\u001b[0m \u001b[0mdoc\u001b[0m\u001b[0;34m.\u001b[0m\u001b[0mvalidate\u001b[0m\u001b[0;34m(\u001b[0m\u001b[0;34m)\u001b[0m\u001b[0;34m\u001b[0m\u001b[0m\n\u001b[1;32m      4\u001b[0m \u001b[0mfilename\u001b[0m \u001b[0;34m=\u001b[0m \u001b[0;34m\"iris_splom.html\"\u001b[0m\u001b[0;34m\u001b[0m\u001b[0m\n\u001b[1;32m      5\u001b[0m \u001b[0;32mwith\u001b[0m \u001b[0mopen\u001b[0m\u001b[0;34m(\u001b[0m\u001b[0mfilename\u001b[0m\u001b[0;34m,\u001b[0m \u001b[0;34m\"w\"\u001b[0m\u001b[0;34m)\u001b[0m \u001b[0;32mas\u001b[0m \u001b[0mf\u001b[0m\u001b[0;34m:\u001b[0m\u001b[0;34m\u001b[0m\u001b[0m\n",
      "\u001b[0;32m/Users/gawron/Library/Enthought/Canopy/edm/envs/User/lib/python2.7/site-packages/bokeh/document.pyc\u001b[0m in \u001b[0;36madd_root\u001b[0;34m(self, model, setter)\u001b[0m\n\u001b[1;32m    277\u001b[0m             \u001b[0mself\u001b[0m\u001b[0;34m.\u001b[0m\u001b[0m_roots\u001b[0m\u001b[0;34m.\u001b[0m\u001b[0mappend\u001b[0m\u001b[0;34m(\u001b[0m\u001b[0mmodel\u001b[0m\u001b[0;34m)\u001b[0m\u001b[0;34m\u001b[0m\u001b[0m\n\u001b[1;32m    278\u001b[0m         \u001b[0;32mfinally\u001b[0m\u001b[0;34m:\u001b[0m\u001b[0;34m\u001b[0m\u001b[0m\n\u001b[0;32m--> 279\u001b[0;31m             \u001b[0mself\u001b[0m\u001b[0;34m.\u001b[0m\u001b[0m_pop_all_models_freeze\u001b[0m\u001b[0;34m(\u001b[0m\u001b[0;34m)\u001b[0m\u001b[0;34m\u001b[0m\u001b[0m\n\u001b[0m\u001b[1;32m    280\u001b[0m         \u001b[0mself\u001b[0m\u001b[0;34m.\u001b[0m\u001b[0m_trigger_on_change\u001b[0m\u001b[0;34m(\u001b[0m\u001b[0mRootAddedEvent\u001b[0m\u001b[0;34m(\u001b[0m\u001b[0mself\u001b[0m\u001b[0;34m,\u001b[0m \u001b[0mmodel\u001b[0m\u001b[0;34m,\u001b[0m \u001b[0msetter\u001b[0m\u001b[0;34m)\u001b[0m\u001b[0;34m)\u001b[0m\u001b[0;34m\u001b[0m\u001b[0m\n\u001b[1;32m    281\u001b[0m \u001b[0;34m\u001b[0m\u001b[0m\n",
      "\u001b[0;32m/Users/gawron/Library/Enthought/Canopy/edm/envs/User/lib/python2.7/site-packages/bokeh/document.pyc\u001b[0m in \u001b[0;36m_pop_all_models_freeze\u001b[0;34m(self)\u001b[0m\n\u001b[1;32m   1078\u001b[0m         \u001b[0mself\u001b[0m\u001b[0;34m.\u001b[0m\u001b[0m_all_models_freeze_count\u001b[0m \u001b[0;34m-=\u001b[0m \u001b[0;36m1\u001b[0m\u001b[0;34m\u001b[0m\u001b[0m\n\u001b[1;32m   1079\u001b[0m         \u001b[0;32mif\u001b[0m \u001b[0mself\u001b[0m\u001b[0;34m.\u001b[0m\u001b[0m_all_models_freeze_count\u001b[0m \u001b[0;34m==\u001b[0m \u001b[0;36m0\u001b[0m\u001b[0;34m:\u001b[0m\u001b[0;34m\u001b[0m\u001b[0m\n\u001b[0;32m-> 1080\u001b[0;31m             \u001b[0mself\u001b[0m\u001b[0;34m.\u001b[0m\u001b[0m_recompute_all_models\u001b[0m\u001b[0;34m(\u001b[0m\u001b[0;34m)\u001b[0m\u001b[0;34m\u001b[0m\u001b[0m\n\u001b[0m\u001b[1;32m   1081\u001b[0m \u001b[0;34m\u001b[0m\u001b[0m\n\u001b[1;32m   1082\u001b[0m     \u001b[0;32mdef\u001b[0m \u001b[0m_recompute_all_models\u001b[0m\u001b[0;34m(\u001b[0m\u001b[0mself\u001b[0m\u001b[0;34m)\u001b[0m\u001b[0;34m:\u001b[0m\u001b[0;34m\u001b[0m\u001b[0m\n",
      "\u001b[0;32m/Users/gawron/Library/Enthought/Canopy/edm/envs/User/lib/python2.7/site-packages/bokeh/document.pyc\u001b[0m in \u001b[0;36m_recompute_all_models\u001b[0;34m(self)\u001b[0m\n\u001b[1;32m   1100\u001b[0m             \u001b[0md\u001b[0m\u001b[0;34m.\u001b[0m\u001b[0m_detach_document\u001b[0m\u001b[0;34m(\u001b[0m\u001b[0;34m)\u001b[0m\u001b[0;34m\u001b[0m\u001b[0m\n\u001b[1;32m   1101\u001b[0m         \u001b[0;32mfor\u001b[0m \u001b[0ma\u001b[0m \u001b[0;32min\u001b[0m \u001b[0mto_attach\u001b[0m\u001b[0;34m:\u001b[0m\u001b[0;34m\u001b[0m\u001b[0m\n\u001b[0;32m-> 1102\u001b[0;31m             \u001b[0ma\u001b[0m\u001b[0;34m.\u001b[0m\u001b[0m_attach_document\u001b[0m\u001b[0;34m(\u001b[0m\u001b[0mself\u001b[0m\u001b[0;34m)\u001b[0m\u001b[0;34m\u001b[0m\u001b[0m\n\u001b[0m\u001b[1;32m   1103\u001b[0m         \u001b[0mself\u001b[0m\u001b[0;34m.\u001b[0m\u001b[0m_all_models\u001b[0m \u001b[0;34m=\u001b[0m \u001b[0mrecomputed\u001b[0m\u001b[0;34m\u001b[0m\u001b[0m\n\u001b[1;32m   1104\u001b[0m         \u001b[0mself\u001b[0m\u001b[0;34m.\u001b[0m\u001b[0m_all_models_by_name\u001b[0m \u001b[0;34m=\u001b[0m \u001b[0mrecomputed_by_name\u001b[0m\u001b[0;34m\u001b[0m\u001b[0m\n",
      "\u001b[0;32m/Users/gawron/Library/Enthought/Canopy/edm/envs/User/lib/python2.7/site-packages/bokeh/model.pyc\u001b[0m in \u001b[0;36m_attach_document\u001b[0;34m(self, doc)\u001b[0m\n\u001b[1;32m    557\u001b[0m         '''\n\u001b[1;32m    558\u001b[0m         \u001b[0;32mif\u001b[0m \u001b[0mself\u001b[0m\u001b[0;34m.\u001b[0m\u001b[0m_document\u001b[0m \u001b[0;32mis\u001b[0m \u001b[0;32mnot\u001b[0m \u001b[0mNone\u001b[0m \u001b[0;32mand\u001b[0m \u001b[0mself\u001b[0m\u001b[0;34m.\u001b[0m\u001b[0m_document\u001b[0m \u001b[0;32mis\u001b[0m \u001b[0;32mnot\u001b[0m \u001b[0mdoc\u001b[0m\u001b[0;34m:\u001b[0m\u001b[0;34m\u001b[0m\u001b[0m\n\u001b[0;32m--> 559\u001b[0;31m             \u001b[0;32mraise\u001b[0m \u001b[0mRuntimeError\u001b[0m\u001b[0;34m(\u001b[0m\u001b[0;34m\"Models must be owned by only a single document, %r is already in a doc\"\u001b[0m \u001b[0;34m%\u001b[0m \u001b[0;34m(\u001b[0m\u001b[0mself\u001b[0m\u001b[0;34m)\u001b[0m\u001b[0;34m)\u001b[0m\u001b[0;34m\u001b[0m\u001b[0m\n\u001b[0m\u001b[1;32m    560\u001b[0m         \u001b[0mdoc\u001b[0m\u001b[0;34m.\u001b[0m\u001b[0mtheme\u001b[0m\u001b[0;34m.\u001b[0m\u001b[0mapply_to_model\u001b[0m\u001b[0;34m(\u001b[0m\u001b[0mself\u001b[0m\u001b[0;34m)\u001b[0m\u001b[0;34m\u001b[0m\u001b[0m\n\u001b[1;32m    561\u001b[0m         \u001b[0mself\u001b[0m\u001b[0;34m.\u001b[0m\u001b[0m_document\u001b[0m \u001b[0;34m=\u001b[0m \u001b[0mdoc\u001b[0m\u001b[0;34m\u001b[0m\u001b[0m\n",
      "\u001b[0;31mRuntimeError\u001b[0m: Models must be owned by only a single document, Plot(id='d0b8ca88-3524-4237-bfb9-62851e566721', ...) is already in a doc"
     ]
    }
   ],
   "source": [
    "doc = Document()\n",
    "doc.add_root(grid)\n",
    "doc.validate()\n",
    "filename = \"iris_splom.html\"\n",
    "with open(filename, \"w\") as f:\n",
    "     f.write(file_html(doc, INLINE, \"Iris Data SPLOM\"))\n",
    "print(\"Wrote %s\" % filename)\n",
    "view(filename)"
   ]
  },
  {
   "cell_type": "code",
   "execution_count": null,
   "metadata": {
    "collapsed": true,
    "deletable": true,
    "editable": true
   },
   "outputs": [],
   "source": []
  }
 ],
 "metadata": {
  "kernelspec": {
   "display_name": "Python 2",
   "language": "python",
   "name": "python2"
  },
  "language_info": {
   "codemirror_mode": {
    "name": "ipython",
    "version": 2
   },
   "file_extension": ".py",
   "mimetype": "text/x-python",
   "name": "python",
   "nbconvert_exporter": "python",
   "pygments_lexer": "ipython2",
   "version": "2.7.13"
  },
  "toc": {
   "colors": {
    "hover_highlight": "#DAA520",
    "running_highlight": "#FF0000",
    "selected_highlight": "#FFD700"
   },
   "moveMenuLeft": true,
   "nav_menu": {
    "height": "66px",
    "width": "252px"
   },
   "navigate_menu": true,
   "number_sections": true,
   "sideBar": true,
   "threshold": 4,
   "toc_cell": false,
   "toc_section_display": "block",
   "toc_window_display": false,
   "widenNotebook": false
  }
 },
 "nbformat": 4,
 "nbformat_minor": 2
}
