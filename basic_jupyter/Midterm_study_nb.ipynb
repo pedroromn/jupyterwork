{
 "cells": [
  {
   "cell_type": "markdown",
   "metadata": {},
   "source": [
    "# Midterm study Notebook"
   ]
  },
  {
   "cell_type": "markdown",
   "metadata": {},
   "source": [
    "The problems in Part One are taken from a previous quiz.  Write the value of each expression in the space provided. A helpful reminder.  When applied to strings, '<' checks alphabetical order.  So\n",
    "\n",
    "```\n",
    ">>> 'a' < 'b'\n",
    "True\n",
    ">>> 'b' < 'a'\n",
    "False\n",
    ">>> 'a' < 'a'\n",
    "False\n",
    "```\n",
    "\n",
    "When applied to strings '+' does concatenation:\n",
    "\n",
    "```\n",
    ">>> 'a' + 'x'\n",
    "'ax'\n",
    "```\n"
   ]
  },
  {
   "cell_type": "markdown",
   "metadata": {},
   "source": [
    "## Part One"
   ]
  },
  {
   "cell_type": "code",
   "execution_count": 1,
   "metadata": {},
   "outputs": [],
   "source": [
    "letters = 'abcdefghijklmnopqrstuvwxyz'\n",
    "vowels = 'aeiou'\n",
    "word = 'facetious'\n",
    "X = [l for l in letters if l not in vowels]\n",
    "Y = [x for x in letters if x > 'd' and x < 'j']\n",
    "W = [x for x in letters if x < 'd' or x > 'j']\n",
    "Z = [x > 'd' and x < 'j' for x in letters]\n",
    "R = [x for x in word if x in vowels]\n",
    "letter_classes = {'vowels': vowels, 'consonants': X}"
   ]
  },
  {
   "cell_type": "code",
   "execution_count": 4,
   "metadata": {},
   "outputs": [
    {
     "data": {
      "text/plain": [
       "['e', 'f', 'g', 'h', 'i']"
      ]
     },
     "execution_count": 4,
     "metadata": {},
     "output_type": "execute_result"
    }
   ],
   "source": [
    "Y"
   ]
  },
  {
   "cell_type": "markdown",
   "metadata": {},
   "source": [
    "###### Preliminaries"
   ]
  },
  {
   "cell_type": "markdown",
   "metadata": {},
   "source": [
    "Write out `X`.  Remember `X` was created by a list comprehension, so it must be a list."
   ]
  },
  {
   "cell_type": "markdown",
   "metadata": {},
   "source": []
  },
  {
   "cell_type": "markdown",
   "metadata": {},
   "source": [
    "Write out `Y`.  Remember `Y` filters the elements of `letters` with the condition `x > 'd' and x < 'j'`."
   ]
  },
  {
   "cell_type": "markdown",
   "metadata": {},
   "source": []
  },
  {
   "cell_type": "markdown",
   "metadata": {},
   "source": [
    "Write out `W`, also a filter."
   ]
  },
  {
   "cell_type": "markdown",
   "metadata": {},
   "source": []
  },
  {
   "cell_type": "markdown",
   "metadata": {},
   "source": [
    "Write out `Z`. Remember the expression to the left of `for` in the list comprehension is what is evaluated once for each element of `letters`, with the results collected in the list `Z`.  So `Z` will be a list of things of the same type as `x > 'd' and x < 'j'`."
   ]
  },
  {
   "cell_type": "markdown",
   "metadata": {},
   "source": []
  },
  {
   "cell_type": "markdown",
   "metadata": {},
   "source": [
    "Write out `R`. Remember `R` filters the elements of `word` with the condition `x in vowels`."
   ]
  },
  {
   "cell_type": "markdown",
   "metadata": {},
   "source": []
  },
  {
   "cell_type": "markdown",
   "metadata": {},
   "source": [
    "Write out `letter_classes`.  Remember `letter_classes` is a dictionary.  Use curly braces.  Separate the keys from the values with `:`."
   ]
  },
  {
   "cell_type": "markdown",
   "metadata": {},
   "source": []
  },
  {
   "cell_type": "markdown",
   "metadata": {
    "collapsed": true
   },
   "source": [
    "1) What is the value of the following Python expression?\n",
    "\n",
    "```\n",
    "['b' + x for x in vowels]\n",
    "```"
   ]
  },
  {
   "cell_type": "code",
   "execution_count": 5,
   "metadata": {},
   "outputs": [
    {
     "data": {
      "text/plain": [
       "['ba', 'be', 'bi', 'bo', 'bu']"
      ]
     },
     "execution_count": 5,
     "metadata": {},
     "output_type": "execute_result"
    }
   ],
   "source": [
    "['b' + x for x in vowels]"
   ]
  },
  {
   "cell_type": "markdown",
   "metadata": {},
   "source": [
    " "
   ]
  },
  {
   "cell_type": "markdown",
   "metadata": {
    "collapsed": true
   },
   "source": [
    "2) What is the value of the following Python expression?\n",
    "\n",
    "```\n",
    "Y[0]\n",
    "```"
   ]
  },
  {
   "cell_type": "markdown",
   "metadata": {},
   "source": [
    " "
   ]
  },
  {
   "cell_type": "markdown",
   "metadata": {
    "collapsed": true
   },
   "source": [
    "3) What is the value of the following Python expression? (List splice must be a sublist of `X`)\n",
    "\n",
    "```\n",
    "X[0:2]\n",
    "```"
   ]
  },
  {
   "cell_type": "markdown",
   "metadata": {},
   "source": [
    " "
   ]
  },
  {
   "cell_type": "markdown",
   "metadata": {
    "collapsed": true
   },
   "source": [
    "4) Write a Python expression which operates on `letters` and returns the following value\n",
    "\n",
    "```\n",
    "'ghi'\n",
    "```"
   ]
  },
  {
   "cell_type": "markdown",
   "metadata": {},
   "source": [
    " "
   ]
  },
  {
   "cell_type": "markdown",
   "metadata": {},
   "source": [
    "5) Write a Python expression which operates on `letters` and returns the following  value.\n",
    "\n",
    "```\n",
    "['g','h','i']\n",
    "```"
   ]
  },
  {
   "cell_type": "markdown",
   "metadata": {},
   "source": [
    " "
   ]
  },
  {
   "cell_type": "markdown",
   "metadata": {},
   "source": [
    "6) What is the value of the following Python expression?\n",
    "\n",
    "```\n",
    "Z[0:3]\n",
    "```"
   ]
  },
  {
   "cell_type": "markdown",
   "metadata": {},
   "source": [
    " "
   ]
  },
  {
   "cell_type": "markdown",
   "metadata": {
    "collapsed": true
   },
   "source": [
    "7) Write a Python expression which operates on `Y` and returns the following value:\n",
    "\n",
    "```\n",
    "['e','i']\n",
    "```"
   ]
  },
  {
   "cell_type": "markdown",
   "metadata": {},
   "source": [
    " "
   ]
  },
  {
   "cell_type": "markdown",
   "metadata": {},
   "source": [
    "8) Write a line of code which operates on `Y` and returns `False`."
   ]
  },
  {
   "cell_type": "markdown",
   "metadata": {},
   "source": [
    " "
   ]
  },
  {
   "cell_type": "markdown",
   "metadata": {},
   "source": [
    "9) Write a line of code which returns the following value when applied to `vowels`:\n",
    "\n",
    "```\n",
    "[True, True, False, False, False]\n",
    "```"
   ]
  },
  {
   "cell_type": "markdown",
   "metadata": {},
   "source": [
    " "
   ]
  },
  {
   "cell_type": "markdown",
   "metadata": {},
   "source": [
    "10) Write a line of code which operates on `letter_classes` and returns the following value.\n",
    "\n",
    "```\n",
    "'e'\n",
    "```"
   ]
  },
  {
   "cell_type": "markdown",
   "metadata": {},
   "source": [
    " "
   ]
  },
  {
   "cell_type": "markdown",
   "metadata": {},
   "source": [
    "11) Write a line of code which operates on `letter_classes` and returns the following value.\n",
    "\n",
    "```\n",
    "'y'\n",
    "```"
   ]
  },
  {
   "cell_type": "markdown",
   "metadata": {},
   "source": [
    " "
   ]
  },
  {
   "cell_type": "markdown",
   "metadata": {},
   "source": [
    "12) What is the value of the following expression?\n",
    "\n",
    "```\n",
    "R[-1]\n",
    "```"
   ]
  },
  {
   "cell_type": "markdown",
   "metadata": {},
   "source": [
    "##       Part Two"
   ]
  },
  {
   "cell_type": "markdown",
   "metadata": {},
   "source": [
    "Write functions that behave according to the descriptions given."
   ]
  },
  {
   "cell_type": "markdown",
   "metadata": {},
   "source": [
    "1) Write a function that takes two numbers as arguments and multiplies them together and adds 1 to the result.  Call your function `product_successor`.  Then:\n",
    "\n",
    "```\n",
    ">>> product_successor(3,2)\n",
    "7\n",
    ">>> product_successor(5,9)\n",
    "46\n",
    "```"
   ]
  },
  {
   "cell_type": "code",
   "execution_count": 11,
   "metadata": {
    "collapsed": true
   },
   "outputs": [],
   "source": [
    "def one_less_than_sq (x):\n",
    "    return x**2 - 1"
   ]
  },
  {
   "cell_type": "code",
   "execution_count": 12,
   "metadata": {},
   "outputs": [],
   "source": [
    "x = one_less_than_sq(3)"
   ]
  },
  {
   "cell_type": "code",
   "execution_count": 13,
   "metadata": {},
   "outputs": [
    {
     "data": {
      "text/plain": [
       "8"
      ]
     },
     "execution_count": 13,
     "metadata": {},
     "output_type": "execute_result"
    }
   ],
   "source": [
    "x"
   ]
  },
  {
   "cell_type": "markdown",
   "metadata": {},
   "source": []
  },
  {
   "cell_type": "markdown",
   "metadata": {},
   "source": [
    " "
   ]
  },
  {
   "cell_type": "markdown",
   "metadata": {},
   "source": [
    " "
   ]
  },
  {
   "cell_type": "markdown",
   "metadata": {},
   "source": [
    "2) Write a function that returns a list of the vowels from any string passed in.  You should use the list `vowels` from Part One as part of your answer.\n",
    "\n",
    "```\n",
    ">>> extract_vowels('hoover')\n",
    "['o','o','e']\n",
    "```"
   ]
  },
  {
   "cell_type": "markdown",
   "metadata": {},
   "source": []
  },
  {
   "cell_type": "markdown",
   "metadata": {},
   "source": [
    "## Part 3"
   ]
  },
  {
   "cell_type": "markdown",
   "metadata": {},
   "source": [
    "Reminders: `range(n)` returns a list of the integers from 0 up to but not including `n`.\n",
    "\n",
    "```\n",
    ">>> range(10)\n",
    "[0,1,2,3,4,5,6,7,8,9]\n",
    "```\n",
    "\n",
    "`'str0'.join(str_seq)`  returns a string gotten by joining together the elements of `str_seq` with `str0`. It is the opposite of `split`.  It is an error if the elements of `str_seq` are not all strings:\n",
    "\n",
    "```\n",
    ">>> ''.join(['a','b','c'])\n",
    "'abc'\n",
    ">>> 'x'.join(['a','b','c'])\n",
    "'axbxc'\n",
    ">>> 'x'.join([1,2,3])\n",
    "TypeError      \n",
    "...\n",
    "TypeError: sequence item 0: expected string, int found\n",
    ">>> 'i'.join(['m','ss','ss','pp',''])\n",
    "'mississippi'\n",
    ">>> 'i'.join(['m','ss','ss','pp'])\n",
    "'mississipp'\n",
    "```\n",
    "\n",
    "\n"
   ]
  },
  {
   "cell_type": "code",
   "execution_count": null,
   "metadata": {
    "collapsed": true
   },
   "outputs": [],
   "source": [
    "letters = ('a', 'b', 'c', 'd', 'e', 'f', 'g', \n",
    "           'h', 'i', 'j', 'k', 'l', 'm', 'n', \n",
    "           'o', 'p', 'q', 'r', 's', 't', 'u', \n",
    "           'v', 'w', 'x', 'y', 'z')\n",
    "vowels = 'aeiou'\n",
    "digits = list(range(4))\n",
    "word_list = ['acre','loft', 'soap', 'pleat']\n",
    "weird_list = [word_list[x][x] for x in digits]\n",
    "word3 = ''.join([x[1] for x in word_list])\n",
    "word4 = 'i'.join(['m','ss','ss','pp',''])\n",
    "char_list = [x for x in word4 if x in vowels]\n",
    "word1 = 'rambunctious'\n",
    "word2 = 'mellifluous'\n",
    "WW = word1 + word2\n",
    "Z = [x for x in WW if x in 'lmn']\n",
    "favorite_words = {'Noam Chomsky': word2, 'Leonard Bloomfield': word1, 'John Rupert Firth': word3}"
   ]
  },
  {
   "cell_type": "markdown",
   "metadata": {},
   "source": [
    "Write out `word3` below."
   ]
  },
  {
   "cell_type": "markdown",
   "metadata": {},
   "source": []
  },
  {
   "cell_type": "markdown",
   "metadata": {},
   "source": [
    "Write out `word4` below."
   ]
  },
  {
   "cell_type": "markdown",
   "metadata": {},
   "source": []
  },
  {
   "cell_type": "markdown",
   "metadata": {},
   "source": [
    "Write out `digits` below."
   ]
  },
  {
   "cell_type": "markdown",
   "metadata": {},
   "source": []
  },
  {
   "cell_type": "markdown",
   "metadata": {},
   "source": [
    "Write out `weird_list` below."
   ]
  },
  {
   "cell_type": "markdown",
   "metadata": {},
   "source": []
  },
  {
   "cell_type": "markdown",
   "metadata": {},
   "source": [
    "Write out `char_list` below."
   ]
  },
  {
   "cell_type": "markdown",
   "metadata": {},
   "source": []
  },
  {
   "cell_type": "markdown",
   "metadata": {},
   "source": [
    "Write out `Z` below."
   ]
  },
  {
   "cell_type": "code",
   "execution_count": null,
   "metadata": {
    "collapsed": true
   },
   "outputs": [],
   "source": []
  },
  {
   "cell_type": "markdown",
   "metadata": {},
   "source": [
    "Write an expression which operates on `favorite_word` and returns:\n",
    "\n",
    "```\n",
    "'cool'\n",
    "```"
   ]
  },
  {
   "cell_type": "markdown",
   "metadata": {},
   "source": []
  },
  {
   "cell_type": "markdown",
   "metadata": {},
   "source": [
    "Write an expression which operates on `favorite_word` and returns:\n",
    "\n",
    "```\n",
    "'bun'\n",
    "```\n",
    "\n",
    "Hint: Use a splice.  Remember that `favorite_word` is a dictionary. Values are retrieved from a dictionary by keys, and therefore it makes no sense to use numerical indices (or splices) directly on a dictionary.  But you might be able to use a splice on something inside the dictionary."
   ]
  },
  {
   "cell_type": "markdown",
   "metadata": {},
   "source": []
  },
  {
   "cell_type": "markdown",
   "metadata": {},
   "source": [
    "Write an expression which retrieves\n",
    "\n",
    "```\n",
    "['a','b','c','x','y''z']\n",
    "```\n",
    "\n",
    "from `letters`.  Hint: use a list comprehension with a condition."
   ]
  },
  {
   "cell_type": "markdown",
   "metadata": {},
   "source": [
    "## Part 4"
   ]
  },
  {
   "cell_type": "code",
   "execution_count": null,
   "metadata": {
    "collapsed": true
   },
   "outputs": [],
   "source": [
    "employees = ['happy', 'sleepy', 'dopey', 'bashful', 'grumpy', 'doc', 'sneezy']\n",
    "employeeEmail = {'happy': ['sleepy','dopey'], 'dopey':['dopey'],'doc': employees,\n",
    "                 'sleepy': ['bashful','doc', 'happy'],'grumpy':[],\n",
    "                 'bashful': ['dopey']}\n",
    "secret_word = 'utilitarian'\n",
    "flip = {'0':'1', '1':'0'}\n",
    "bit_string = '001110'\n",
    "flipped = [flip[x] for x in bit_string]"
   ]
  },
  {
   "cell_type": "markdown",
   "metadata": {},
   "source": [
    "Write out the values of the following expressions, noting errors where appropriate.  Pay attention to your types (use delimiters like `{`, `[`, and `(` appropriately).\n",
    "\n",
    "```\n",
    "employees[2:5]\n",
    "employeeEmail['happy'][1][-1]\n",
    "employeeEmail[1][1][-1]\n",
    "employeeEmail['happy']['sleepy'][-1]\n",
    "secret_word[-5:]\n",
    "[x < 'j' for x in secret_word]\n",
    "flipped\n",
    "```"
   ]
  },
  {
   "cell_type": "markdown",
   "metadata": {
    "collapsed": true
   },
   "source": [
    "Write a function which takes two numbers `m` and `n` and returns the result of adding `m` and `n` together and multiplying the result by 3."
   ]
  },
  {
   "cell_type": "code",
   "execution_count": null,
   "metadata": {
    "collapsed": true
   },
   "outputs": [],
   "source": []
  },
  {
   "cell_type": "markdown",
   "metadata": {},
   "source": [
    "Part 5"
   ]
  },
  {
   "cell_type": "code",
   "execution_count": 14,
   "metadata": {
    "collapsed": true
   },
   "outputs": [],
   "source": [
    "import numpy as np\n",
    "x = np.array([5,13,23,47,9])\n",
    "y = np.ones((5,))\n",
    "z = np.ones((5,2))"
   ]
  },
  {
   "cell_type": "code",
   "execution_count": 20,
   "metadata": {},
   "outputs": [
    {
     "data": {
      "text/plain": [
       "array([ 1.,  1.,  1.,  1.,  1.])"
      ]
     },
     "execution_count": 20,
     "metadata": {},
     "output_type": "execute_result"
    }
   ],
   "source": [
    "y"
   ]
  },
  {
   "cell_type": "code",
   "execution_count": 26,
   "metadata": {},
   "outputs": [
    {
     "data": {
      "text/plain": [
       "1.0"
      ]
     },
     "execution_count": 26,
     "metadata": {},
     "output_type": "execute_result"
    }
   ],
   "source": [
    "z[4,1]"
   ]
  },
  {
   "cell_type": "markdown",
   "metadata": {},
   "source": [
    "For each of the following expressions, write down what is returned."
   ]
  },
  {
   "cell_type": "code",
   "execution_count": 27,
   "metadata": {},
   "outputs": [
    {
     "data": {
      "text/plain": [
       "array([10, 26, 46, 94, 18])"
      ]
     },
     "execution_count": 27,
     "metadata": {},
     "output_type": "execute_result"
    }
   ],
   "source": [
    "x * 2"
   ]
  },
  {
   "cell_type": "code",
   "execution_count": 28,
   "metadata": {},
   "outputs": [
    {
     "data": {
      "text/plain": [
       "array([ 1.,  1.,  1.,  1.,  1.])"
      ]
     },
     "execution_count": 28,
     "metadata": {},
     "output_type": "execute_result"
    }
   ],
   "source": [
    "y"
   ]
  },
  {
   "cell_type": "code",
   "execution_count": 30,
   "metadata": {},
   "outputs": [
    {
     "name": "stdout",
     "output_type": "stream",
     "text": [
      "[ 5 13 23 47  9]\n",
      "[ 1.  1.  1.  1.  1.]\n"
     ]
    },
    {
     "data": {
      "text/plain": [
       "array([  6.,  14.,  24.,  48.,  10.])"
      ]
     },
     "execution_count": 30,
     "metadata": {},
     "output_type": "execute_result"
    }
   ],
   "source": [
    "print(x)\n",
    "print(y)\n",
    "x + y"
   ]
  },
  {
   "cell_type": "code",
   "execution_count": null,
   "metadata": {},
   "outputs": [],
   "source": [
    "z"
   ]
  },
  {
   "cell_type": "code",
   "execution_count": null,
   "metadata": {
    "collapsed": true
   },
   "outputs": [],
   "source": [
    "x + z"
   ]
  },
  {
   "cell_type": "markdown",
   "metadata": {},
   "source": [
    "Explain why you get the result that you get for `x + z`. (Answer: `x` and `z` have incompatible shapes.\n",
    "`x` is a `1D` array with shape `(5,)`, and `z` is a 2D array with shape `(5,2)`."
   ]
  },
  {
   "cell_type": "code",
   "execution_count": null,
   "metadata": {},
   "outputs": [],
   "source": [
    "z.shape"
   ]
  },
  {
   "cell_type": "markdown",
   "metadata": {},
   "source": [
    "Note the following:"
   ]
  },
  {
   "cell_type": "code",
   "execution_count": 31,
   "metadata": {
    "scrolled": true
   },
   "outputs": [
    {
     "data": {
      "text/plain": [
       "array([ True,  True, False, False,  True], dtype=bool)"
      ]
     },
     "execution_count": 31,
     "metadata": {},
     "output_type": "execute_result"
    }
   ],
   "source": [
    "x < 20"
   ]
  },
  {
   "cell_type": "markdown",
   "metadata": {},
   "source": [
    "The result above is called a **Boolean array** because it only contains instances of the\n",
    "type `bool` (`True` and `False`). Such Boolean arrays can be used to index arrays (basically\n",
    "if they are of the same length).  Using a Boolean array this way is called using a **Boolean mask**."
   ]
  },
  {
   "cell_type": "markdown",
   "metadata": {},
   "source": [
    "Using a Boolean mask, write an expression that returns an array containing the members of `x` that\n",
    "are less than `20`."
   ]
  },
  {
   "cell_type": "code",
   "execution_count": 32,
   "metadata": {},
   "outputs": [
    {
     "data": {
      "text/plain": [
       "array([ 5, 13,  9])"
      ]
     },
     "execution_count": 32,
     "metadata": {},
     "output_type": "execute_result"
    }
   ],
   "source": [
    "x[x<20]"
   ]
  },
  {
   "cell_type": "code",
   "execution_count": 33,
   "metadata": {
    "collapsed": true
   },
   "outputs": [],
   "source": [
    "two_d_array = np.array([[1,2],[2,1],[5,5],[9,4]])"
   ]
  },
  {
   "cell_type": "code",
   "execution_count": 34,
   "metadata": {},
   "outputs": [
    {
     "data": {
      "text/plain": [
       "array([[1, 2],\n",
       "       [2, 1],\n",
       "       [5, 5],\n",
       "       [9, 4]])"
      ]
     },
     "execution_count": 34,
     "metadata": {},
     "output_type": "execute_result"
    }
   ],
   "source": [
    "two_d_array"
   ]
  },
  {
   "cell_type": "markdown",
   "metadata": {},
   "source": [
    "Write an expression that returns the second row of `two_d_array`."
   ]
  },
  {
   "cell_type": "code",
   "execution_count": null,
   "metadata": {},
   "outputs": [],
   "source": [
    "two_d_array[1,]"
   ]
  },
  {
   "cell_type": "markdown",
   "metadata": {},
   "source": [
    "Write an expression that returns `two_d_array` omitting the first row."
   ]
  },
  {
   "cell_type": "markdown",
   "metadata": {},
   "source": []
  },
  {
   "cell_type": "markdown",
   "metadata": {},
   "source": [
    "Write an expression that returns the following subarray of `two_d_array`.\n",
    "\n",
    "```\n",
    "array([[2, 1],\n",
    "       [5, 5]])\n",
    "```"
   ]
  },
  {
   "cell_type": "code",
   "execution_count": null,
   "metadata": {
    "collapsed": true
   },
   "outputs": [],
   "source": []
  }
 ],
 "metadata": {
  "kernelspec": {
   "display_name": "Python 3",
   "language": "python",
   "name": "python3"
  },
  "language_info": {
   "codemirror_mode": {
    "name": "ipython",
    "version": 3
   },
   "file_extension": ".py",
   "mimetype": "text/x-python",
   "name": "python",
   "nbconvert_exporter": "python",
   "pygments_lexer": "ipython3",
   "version": "3.6.4"
  },
  "toc": {
   "colors": {
    "hover_highlight": "#DAA520",
    "running_highlight": "#FF0000",
    "selected_highlight": "#FFD700"
   },
   "moveMenuLeft": true,
   "nav_menu": {
    "height": "103px",
    "width": "252px"
   },
   "navigate_menu": true,
   "number_sections": true,
   "sideBar": true,
   "threshold": 4,
   "toc_cell": false,
   "toc_section_display": "block",
   "toc_window_display": false,
   "widenNotebook": false
  }
 },
 "nbformat": 4,
 "nbformat_minor": 1
}
