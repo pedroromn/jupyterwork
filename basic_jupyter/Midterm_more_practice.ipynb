{
 "cells": [
  {
   "cell_type": "markdown",
   "metadata": {},
   "source": [
    "# Midterm  2018: Ling 572\n",
    "\n",
    "October 23, 2018"
   ]
  },
  {
   "cell_type": "markdown",
   "metadata": {},
   "source": [
    "Name:"
   ]
  },
  {
   "cell_type": "code",
   "execution_count": null,
   "metadata": {
    "collapsed": true
   },
   "outputs": [],
   "source": [
    "Red ID:"
   ]
  },
  {
   "cell_type": "markdown",
   "metadata": {},
   "source": [
    "## Part One"
   ]
  },
  {
   "cell_type": "code",
   "execution_count": 1,
   "metadata": {},
   "outputs": [],
   "source": [
    "ascii_letters = 'abcdefghijklmnopqrstuvwxyzABCDEFGHIJKLMNOPQRSTUVWXYZ'\n",
    "secret_word = 'facetiously'\n",
    "public_word = 'call'\n",
    "vowels = 'aeiouy'\n",
    "others = [l for l in secret_word if l in vowels]\n",
    "others2 = [l in vowels for l in secret_word]\n",
    "codebook = {'a': 0, 'b': 1, 'c': 2, 'd': 3, 'e': 4, 'f': 5, 'g': 6,\n",
    "            'h': 7, 'i': 8, 'j': 9, 'k': 10, 'l': 11, 'm': 12, 'n': 13,\n",
    "            'o': 14, 'p': 15, 'q': 16, 'r': 17, 's': 18, 't': 19, \n",
    "            'u': 20, 'v': 21, 'w': 22, 'x': 23, 'y': 24, 'z': 25, \n",
    "            'A': 26, 'B': 27, 'C': 28, 'D': 29, 'E': 30, 'F': 31, \n",
    "            'G': 32, 'H': 33, 'I': 34, 'J': 35, 'K': 36, 'L': 37, \n",
    "            'M': 38, 'N': 39, 'O': 40, 'P': 41, 'Q': 42, 'R': 43, \n",
    "            'S': 44, 'T': 45, 'U': 46, 'V': 47, 'W': 48, 'X': 49, \n",
    "            'Y': 50, 'Z': 51}\n",
    "shifted_codebook = dict()\n",
    "for k in codebook.keys():\n",
    "    shifted_codebook[k] = codebook[k] + 3\n",
    "encoded_word = [shifted_codebook[l] for l in public_word \n",
    "                 if l in secret_word]\n",
    "encoded_word2 = [shifted_codebook[l] for l in public_word]\n",
    "X = [codebook[c] for c in 'cell']\n",
    "L = [shifted_codebook, codebook, ascii_letters, X]"
   ]
  },
  {
   "cell_type": "code",
   "execution_count": 2,
   "metadata": {},
   "outputs": [
    {
     "data": {
      "text/plain": [
       "[5, 3, 14, 14]"
      ]
     },
     "execution_count": 2,
     "metadata": {},
     "output_type": "execute_result"
    }
   ],
   "source": [
    "encoded_word"
   ]
  },
  {
   "cell_type": "code",
   "execution_count": 3,
   "metadata": {},
   "outputs": [
    {
     "data": {
      "text/plain": [
       "[2, 4, 11, 11]"
      ]
     },
     "execution_count": 3,
     "metadata": {},
     "output_type": "execute_result"
    }
   ],
   "source": [
    "X"
   ]
  },
  {
   "cell_type": "markdown",
   "metadata": {},
   "source": [
    "###### Preliminaries"
   ]
  },
  {
   "cell_type": "markdown",
   "metadata": {},
   "source": [
    "1) Write out `others`.  "
   ]
  },
  {
   "cell_type": "markdown",
   "metadata": {},
   "source": [
    " "
   ]
  },
  {
   "cell_type": "markdown",
   "metadata": {},
   "source": [
    "2) Write out `others2`."
   ]
  },
  {
   "cell_type": "markdown",
   "metadata": {},
   "source": [
    " "
   ]
  },
  {
   "cell_type": "markdown",
   "metadata": {},
   "source": [
    "3) Write out `encoded_word`. "
   ]
  },
  {
   "cell_type": "markdown",
   "metadata": {},
   "source": [
    " "
   ]
  },
  {
   "cell_type": "markdown",
   "metadata": {},
   "source": [
    "4) Write out `encoded_word2`. "
   ]
  },
  {
   "cell_type": "markdown",
   "metadata": {},
   "source": [
    " "
   ]
  },
  {
   "cell_type": "markdown",
   "metadata": {},
   "source": [
    "4a) What is the value of the following Python expression?\n",
    "```\n",
    "L[0]['c']\n",
    "```"
   ]
  },
  {
   "cell_type": "markdown",
   "metadata": {
    "collapsed": true
   },
   "source": [
    "4b) What is the value of the following Python expression?\n",
    "```\n",
    "L[2]['C']\n",
    "```"
   ]
  },
  {
   "cell_type": "markdown",
   "metadata": {
    "collapsed": true
   },
   "source": [
    "5a) What is the value of the following Python expression?\n",
    "\n",
    "```\n",
    "L[2]\n",
    "```\n",
    "\n",
    "5b) What is the type of the above Python expression?  If the answer\n",
    "is a container of some sort, say what type of things the container\n",
    "contains.  For example, if the type of the above expression\n",
    "is a tuple, and each of the elements in the tuple is a string,\n",
    "say \"a tuple of strings\"."
   ]
  },
  {
   "cell_type": "markdown",
   "metadata": {},
   "source": [
    "6) What is the value of the following Python expression?\n",
    "```\n",
    "codebook['a'] + codebook['b']\n",
    "```"
   ]
  },
  {
   "cell_type": "markdown",
   "metadata": {
    "collapsed": true
   },
   "source": [
    "7) What is the value of the following Python expression? \n",
    "\n",
    "```\n",
    "vowels + vowels\n",
    "```"
   ]
  },
  {
   "cell_type": "markdown",
   "metadata": {
    "collapsed": true
   },
   "source": [
    "6) What is the value of the following Python expression?\n",
    "```\n",
    "others == vowels\n",
    "```"
   ]
  },
  {
   "cell_type": "markdown",
   "metadata": {},
   "source": [
    "8) What is the value of the following Python expression?\n",
    "```\n",
    "encoded_word == encoded_word2\n",
    "```"
   ]
  },
  {
   "cell_type": "markdown",
   "metadata": {},
   "source": [
    "9) What is the value of the following Python expression?\n",
    "```\n",
    "L[3][1]\n",
    "```"
   ]
  },
  {
   "cell_type": "markdown",
   "metadata": {},
   "source": [
    "10) Write a line of code which operates on `X` and returns the following value:\n",
    "```\n",
    "[11, 11]\n",
    "```"
   ]
  },
  {
   "cell_type": "markdown",
   "metadata": {},
   "source": [
    "##       Part Two: Functions"
   ]
  },
  {
   "cell_type": "markdown",
   "metadata": {},
   "source": [
    "1) Write a function that takes a string as an argument and returns a **list** of the consonants (letters that are not vowels).  Call your function `find_consonants`.  Use the value of `vowels` from Part One to decide if a letter is a consonant (anything that is not a vowel is a consonant). Using `secret_word` as defined in part one, it should behave as follows\n",
    "\n",
    "```\n",
    ">>> find_consonants('facetiously)\n",
    "['f', 'c', 't', 's', 'l']\n",
    "```"
   ]
  },
  {
   "cell_type": "markdown",
   "metadata": {},
   "source": [
    "## More practice"
   ]
  },
  {
   "cell_type": "markdown",
   "metadata": {},
   "source": [
    "Reminders: `range(n)` returns a list of the integers from 0 up to but not including `n`.\n",
    "\n",
    "```\n",
    ">>> range(10)\n",
    "[0,1,2,3,4,5,6,7,8,9]\n",
    "```\n",
    "\n",
    "`'str0'.join(str_seq)`  returns a string gotten by joining together the elements of `str_seq` with `str0`. It is the opposite of `split`.  It is an error if the elements of `str_seq` are not all strings:\n",
    "\n",
    "```\n",
    ">>> ''.join(['a','b','c'])\n",
    "'abc'\n",
    "\n",
    "Note:  This is the standard way of turning a list of characters into a string.\n",
    "\n",
    ">>> 'x'.join(['a','b','c'])\n",
    "'axbxc'\n",
    ">>> 'x'.join([1,2,3])\n",
    "TypeError      \n",
    "...\n",
    "TypeError: sequence item 0: expected string, int found\n",
    ">>> 'i'.join(['m','ss','ss','pp',''])\n",
    "'mississippi'\n",
    "```"
   ]
  },
  {
   "cell_type": "markdown",
   "metadata": {},
   "source": [
    "Write a function `find_consonants2` which is like `find_consonants` in the previous problem.   It returns the cononsants, but it returns them as a string rather than a list.  So in effect it removes the vowels from a word.  For example:\n",
    "\n",
    "```\n",
    ">>> find_consonants2('facetiously')\n",
    "'fctsl'\n",
    "```"
   ]
  },
  {
   "cell_type": "markdown",
   "metadata": {},
   "source": [
    "Write a function called `increment_dates` that inputs a dictionary that has strings as keys and updates every key that ends with `'_date'` by adding 1 to it.  Many applications (for example Excel) store dates internally as integers, with the interpretation that there is some earliest possible date (for example, Jan. 1, 1900) that we count forward from.  Note:  What this function returns doesn't matter since the assumption is that we have a name for the dictionary to start with, and all the function does in update the dictionary in a specific way.  Here is an example:\n",
    "\n",
    "```\n",
    ">>> guido = {'name': 'Guido can Rossum',\n",
    "         'favorite_programming_language' : 'python',\n",
    "         'favorite_tv_show':  \"Monty Python's Flying Circus\",\n",
    "         'birth_date': 14102,\n",
    "         'dictator_for_life_start_date': 25782,\n",
    "         'dictator_for_life_33082_date': 33082}\n",
    ">>> update_date(guido)\n",
    ">>> guido\n",
    "{'name': 'Guido can Rossum', \n",
    " 'favorite_programming_language': 'python', \n",
    " 'favorite_tv_show': \"Monty Python's Flying Circus\", \n",
    " 'birth_date': 14103, \n",
    " 'dictator_for_life_start_date': 25783, \n",
    " 'dictator_for_life_33082_date': 33083}\n",
    "```\n",
    "\n",
    "Some reminders:\n",
    "\n",
    "1.  The way to loop through the keys of a dictionary `dd` is to do\n",
    "    `for k in dd:`.  \n",
    "2.  You can **not** assume any order when you loop through the keys.  In looping\n",
    "    through the dictionary `guido`, the first key might be `'name'` or it might be \n",
    "    `'birth_date`'."
   ]
  },
  {
   "cell_type": "markdown",
   "metadata": {},
   "source": [
    " \n",
    "\n",
    " "
   ]
  },
  {
   "cell_type": "code",
   "execution_count": 1,
   "metadata": {},
   "outputs": [],
   "source": [
    "vowels = 'aeiou'\n",
    "digits = range(6)\n",
    "word_list = ['HAPPY','SLY', 'NOTHING', 'USHER', 'FROND', 'PANTHEON']\n",
    "weird_list = [word_list[x].lower()[2] for x in digits]\n",
    "word2 = 'a'.join(['','br','d', 'br', ''])\n",
    "char_list = [x for x in word2 if x in vowels]\n",
    "tolkienites = ['arwen', 'saruman', 'boromir', 'elrond', 'strider', \n",
    "               'bilbo', 'gandalf', 'sam', 'frodo', 'gimli', 'aragorn']\n",
    "employeeEmail = {'happy': tolkienites, 'dopey':['sleepy'],'doc': ['sarumen'],\n",
    "                 'sleepy': ['bashful','doc', 'happy'],'grumpy':[],\n",
    "                 'bashful': ['dopey']}\n"
   ]
  },
  {
   "cell_type": "markdown",
   "metadata": {},
   "source": [
    "1) Write out `weird_list` below."
   ]
  },
  {
   "cell_type": "markdown",
   "metadata": {},
   "source": [
    " "
   ]
  },
  {
   "cell_type": "markdown",
   "metadata": {},
   "source": [
    "2) Write out `char_list` below."
   ]
  },
  {
   "cell_type": "markdown",
   "metadata": {},
   "source": [
    " "
   ]
  },
  {
   "cell_type": "markdown",
   "metadata": {},
   "source": [
    "3) What is the value of the following expression?\n",
    "\n",
    "```\n",
    "employeeEmail['happy'][4][2:7]\n",
    "```"
   ]
  },
  {
   "cell_type": "markdown",
   "metadata": {},
   "source": [
    " "
   ]
  },
  {
   "cell_type": "markdown",
   "metadata": {},
   "source": [
    " "
   ]
  }
 ],
 "metadata": {
  "kernelspec": {
   "display_name": "Python 3",
   "language": "python",
   "name": "python3"
  },
  "language_info": {
   "codemirror_mode": {
    "name": "ipython",
    "version": 3
   },
   "file_extension": ".py",
   "mimetype": "text/x-python",
   "name": "python",
   "nbconvert_exporter": "python",
   "pygments_lexer": "ipython3",
   "version": "3.6.5"
  },
  "toc": {
   "base_numbering": 1,
   "nav_menu": {
    "height": "104px",
    "width": "252px"
   },
   "number_sections": true,
   "sideBar": true,
   "skip_h1_title": false,
   "title_cell": "Table of Contents",
   "title_sidebar": "Contents",
   "toc_cell": false,
   "toc_position": {},
   "toc_section_display": "block",
   "toc_window_display": false
  }
 },
 "nbformat": 4,
 "nbformat_minor": 1
}
