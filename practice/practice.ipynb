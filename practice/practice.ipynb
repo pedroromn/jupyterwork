{
 "cells": [
  {
   "cell_type": "code",
   "execution_count": 3,
   "metadata": {},
   "outputs": [
    {
     "name": "stdin",
     "output_type": "stream",
     "text": [
      "Valor del radio:  2\n"
     ]
    },
    {
     "name": "stdout",
     "output_type": "stream",
     "text": [
      "33.510321638291124\n"
     ]
    }
   ],
   "source": [
    "from math import pi\n",
    "\n",
    "#cadena_leida = input()\n",
    "#radio = float(cadena_leida)\n",
    "radio = float(input(\"Valor del radio: \"))\n",
    "volumen = 4/3 * pi * radio**3\n",
    "print(volumen)"
   ]
  },
  {
   "cell_type": "code",
   "execution_count": 18,
   "metadata": {},
   "outputs": [
    {
     "name": "stdout",
     "output_type": "stream",
     "text": [
      "0.49999999999999994\n"
     ]
    }
   ],
   "source": [
    "from math import pi, sin\n",
    "a=1\n",
    "b=2\n",
    "theta_grad = 30 # en grados\n",
    "theta = theta_grad*pi/180\n",
    "area = (1/2)*a*b*sin(theta)\n",
    "print(area)"
   ]
  },
  {
   "cell_type": "code",
   "execution_count": 4,
   "metadata": {},
   "outputs": [
    {
     "name": "stdout",
     "output_type": "stream",
     "text": [
      "Enter 10 integers\n"
     ]
    },
    {
     "name": "stdin",
     "output_type": "stream",
     "text": [
      "Enter integer:  19\n",
      "Enter integer:  25\n",
      "Enter integer:  15\n",
      "Enter integer:  7\n",
      "Enter integer:  8\n",
      "Enter integer:  15\n",
      "Enter integer:  20\n",
      "Enter integer:  20\n",
      "Enter integer:  21\n",
      "Enter integer:  11\n"
     ]
    },
    {
     "name": "stdout",
     "output_type": "stream",
     "text": [
      "\n",
      " Creating an histogram from values: \n",
      "Element      Value  Histogram\n",
      "      0         19 *******************\n",
      "      1         25 *************************\n",
      "      2         15 ***************\n",
      "      3          7 *******\n",
      "      4          8 ********\n",
      "      5         15 ***************\n",
      "      6         20 ********************\n",
      "      7         20 ********************\n",
      "      8         21 *********************\n",
      "      9         11 ***********\n"
     ]
    }
   ],
   "source": [
    "values = [] # a list values\n",
    "\n",
    "#input 10 values from user\n",
    "print(\"Enter 10 integers\")\n",
    "\n",
    "for i in range(10):\n",
    "    new_value = int(input(\"Enter integer: \"))\n",
    "    values.append(new_value)\n",
    "    \n",
    "# Create histogram\n",
    "print(\"\\n Creating an histogram from values: \")\n",
    "head = \"{} {:>10} {:>10}\".format(\"Element\", \"Value\", \"Histogram\")\n",
    "print(head)\n",
    "\n",
    "for i in range( len(values) ):\n",
    "    line = \"{:7d} {:10d} {:>2}\".format(i, values[i], \"*\"*values[i])\n",
    "    print(line)"
   ]
  },
  {
   "cell_type": "code",
   "execution_count": null,
   "metadata": {},
   "outputs": [],
   "source": []
  }
 ],
 "metadata": {
  "kernelspec": {
   "display_name": "Python 3",
   "language": "python",
   "name": "python3"
  },
  "language_info": {
   "codemirror_mode": {
    "name": "ipython",
    "version": 3
   },
   "file_extension": ".py",
   "mimetype": "text/x-python",
   "name": "python",
   "nbconvert_exporter": "python",
   "pygments_lexer": "ipython3",
   "version": "3.7.6"
  }
 },
 "nbformat": 4,
 "nbformat_minor": 4
}
